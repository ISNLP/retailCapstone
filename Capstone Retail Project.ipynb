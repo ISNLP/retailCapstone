{
 "cells": [
  {
   "cell_type": "markdown",
   "id": "a15169de",
   "metadata": {},
   "source": [
    "***Problem Statement***\n",
    "\n",
    "<li>It is a critical requirement for business to understand the value derived from a customer. RFM is a method used for analyzing customer value.\n",
    "<li>Customer segmentation is the practice of segregating the customer base into groups of individuals based on some common characteristics such as age, gender, interests, and spending habits\n",
    "<li>Perform customer segmentation using RFM analysis. The resulting segments can be ordered from most valuable (highest recency, frequency, and value) to least valuable (lowest recency, frequency, and value)."
   ]
  },
  {
   "cell_type": "markdown",
   "id": "864b7da7",
   "metadata": {},
   "source": [
    "***Data Description***\n",
    "\n",
    "This is a transnational data set which contains all the transactions that occurred between 01/12/2010 and 09/12/2011 for a UK-based and registered non-store online retail. The company mainly sells unique and all-occasion gifts.\n",
    "\n",
    "<li>InvoiceNo: Invoice number. Nominal, a 6-digit integral number uniquely assigned to each transaction. If this code starts with letter 'c', it indicates a cancellation. \n",
    "<li>StockCode: Product (item) code. Nominal, a 5-digit integral number uniquely assigned to each distinct product. \n",
    "<li>Description: Product (item) name. Nominal. \n",
    "<li>Quantity: The quantities of each product (item) per transaction. Numeric. \n",
    "<li>InvoiceDate: Invoice Date and time. Numeric, the day and time when each transaction was generated. \n",
    "<li>UnitPrice: Unit price. Numeric, Product price per unit in sterling. \n",
    "<li>CustomerID: Customer number. Nominal, a 5-digit integral number uniquely assigned to each customer. \n",
    "<li>Country: Country name. Nominal, the name of the country where each customer resides."
   ]
  },
  {
   "cell_type": "markdown",
   "id": "70d4bae9",
   "metadata": {},
   "source": [
    "\n",
    "**Project Task: Week 1**\n",
    "\n",
    "Data Cleaning:\n",
    "\n",
    "1. Perform a preliminary data inspection and data cleaning.\n",
    "\n",
    "a. Check for missing data and formulate an apt strategy to treat them.\n",
    "\n",
    "b. Remove duplicate data records.\n",
    "\n",
    "c. Perform descriptive analytics on the given data."
   ]
  },
  {
   "cell_type": "markdown",
   "id": "e88d8c13",
   "metadata": {},
   "source": [
    "##### Import Relevant Libraries"
   ]
  },
  {
   "cell_type": "code",
   "execution_count": 1,
   "id": "4079a5fb",
   "metadata": {},
   "outputs": [],
   "source": [
    "import pandas as pd\n",
    "import numpy as np\n",
    "import matplotlib.pyplot as plt\n",
    "%matplotlib inline\n",
    "import matplotlib.colors as mcolors\n",
    "import missingno as msno\n",
    "from scipy import stats\n",
    "import seaborn as sns\n",
    "sns.set()\n",
    "from textwrap import wrap\n",
    "from sklearn.cluster import KMeans\n",
    "from sklearn.manifold import TSNE\n",
    "from sklearn.preprocessing import StandardScaler\n",
    "from sklearn.metrics import silhouette_score\n",
    "import warnings\n",
    "warnings.filterwarnings('ignore')\n",
    "import os\n",
    "import datetime as dt"
   ]
  },
  {
   "cell_type": "markdown",
   "id": "e0df4790",
   "metadata": {},
   "source": [
    "##### Define a class for formatting the optput"
   ]
  },
  {
   "cell_type": "code",
   "execution_count": 2,
   "id": "f95570ee",
   "metadata": {},
   "outputs": [],
   "source": [
    "class color:\n",
    "    PURPLE = '\\033[95m'\n",
    "    CYAN = '\\033[96m'\n",
    "    DARKCYAN = '\\033[36m'\n",
    "    BLUE = '\\033[94m'\n",
    "    GREEN = '\\033[92m'\n",
    "    YELLOW = '\\033[93m'\n",
    "    RED = '\\033[91m'\n",
    "    WHITE = '\\033[97m'\n",
    "    MAGENTA = '\\033[95m'\n",
    "    LIGHTGRAY    = \"\\033[37m\"\n",
    "    DARKGRAY = '\\033[90m'\n",
    "    BLACK = '\\033[90m'\n",
    "    LIGHTRED = \"\\033[91m\"\n",
    "    LIGHTGREEN = \"\\033[92m\"\n",
    "    LIGHTYELLOW = \"\\033[93m\"\n",
    "    LIGHTBLUE = \"\\033[94m\"\n",
    "    LIGHTMAGENTA = \"\\033[95m\"\n",
    "    LIGHTCYAN = \"\\033[96m\"\n",
    "\n",
    "    DEFAULT = \"\\033[39m\"\n",
    "    BOLD = '\\033[1m'\n",
    "    DIM = \"\\033[2m\"\n",
    "    UNDERLINE = '\\033[4m'\n",
    "    BLINK = \"\\033[5m\"\n",
    "    REVERSE = \"\\033[7m\"\n",
    "    END = '\\033[0m'\n",
    "\n",
    "    HIDDEN = \"\\033[8m\"\n",
    "    RESETBOLD = \"\\033[21m\"\n",
    "    RESETDIM = \"\\033[22m\"\n",
    "    RESETUNDERLINE = \"\\033[24m\"\n",
    "    RESETBLINK = \"\\033[25m\"\n",
    "    RESETREVERSE = \"\\033[27m\"\n",
    "    RESETHIDDEN = \"\\033[28m\"\n",
    "\n",
    "    RESETALL = \"\\033[0m\"\n",
    "    \n",
    "    BACKGROUNDDEFAULT = \"\\033[49m\"\n",
    "    BACKGROUNDBLACK = \"\\033[40m\"\n",
    "    BACKGROUNDRED = \"\\033[41m\"\n",
    "    BACKGROUNDGREEN = \"\\033[42m\"\n",
    "    BACKGROUNDYELLOW = \"\\033[43m\"\n",
    "    BACKGROUNDBLUE = \"\\033[44m\"\n",
    "    BACKGROUNDMAGENTA = \"\\033[45m\"\n",
    "    BACKGROUNDCYAN = \"\\033[46m\"\n",
    "    BACKGROUNDLIGHTGRAY = \"\\033[47m\"\n",
    "    BACKGROUNDDARKGRAY = \"\\033[100m\"\n",
    "    BACKGROUNDLIGHTRED = \"\\033[101m\"\n",
    "    BACKGROUNDLIGHTGREEN = \"\\033[102m\"\n",
    "    BACKGROUNDLIGHTYELLOW = \"\\033[103m\"\n",
    "    BACKGROUNDLIGHTBLUE = \"\\033[104m\"\n",
    "    BACKGROUNDLIGHTMAGENTA = \"\\033[105m\"\n",
    "    BACKGROUNDLIGHTCYAN = \"\\033[106m\"\n",
    "    BACKGROUNDWHITE = \"\\033[107m\""
   ]
  },
  {
   "cell_type": "markdown",
   "id": "38e56b73",
   "metadata": {},
   "source": [
    "##### Carrying out a broad check for the appropriate location for the Project"
   ]
  },
  {
   "cell_type": "code",
   "execution_count": 3,
   "id": "3b6c44bf",
   "metadata": {},
   "outputs": [
    {
     "name": "stdout",
     "output_type": "stream",
     "text": [
      "\u001b[94m\u001b[1m\n",
      "The current working directory is \n",
      "\n",
      "\t\u001b[0m\u001b[92m/Users/indiwarjeetsinghhundal/Documents/DataAnalysis/Capstone/Retails\u001b[0m\n"
     ]
    }
   ],
   "source": [
    "os.getcwd()\n",
    "print((color.BLUE + \n",
    "       color.BOLD +\n",
    "       '\\nThe current working directory is \\n\\n\\t' +\n",
    "       color.END +\n",
    "       color.GREEN +\n",
    "       '{}' +\n",
    "       color.END).\n",
    "      format(os.getcwd()))"
   ]
  },
  {
   "cell_type": "markdown",
   "id": "fbd85048",
   "metadata": {},
   "source": [
    "##### Import Datasets"
   ]
  },
  {
   "cell_type": "code",
   "execution_count": 4,
   "id": "8d43e0da",
   "metadata": {},
   "outputs": [],
   "source": [
    "retailData = pd.read_excel(\"Online Retail.xlsx\")"
   ]
  },
  {
   "cell_type": "markdown",
   "id": "ad298953",
   "metadata": {},
   "source": [
    "##### Examine the Datasets using the following methods \n",
    "<li> head\n",
    "<li> info\n",
    "<li> shape\n",
    "<li> type\n",
    "<li> dtype\n",
    "<li> describe"
   ]
  },
  {
   "cell_type": "markdown",
   "id": "59be016f",
   "metadata": {},
   "source": [
    "##### retailData Head"
   ]
  },
  {
   "cell_type": "code",
   "execution_count": 5,
   "id": "2dce70e8",
   "metadata": {},
   "outputs": [
    {
     "name": "stdout",
     "output_type": "stream",
     "text": [
      "\u001b[94m\u001b[1m\n",
      "The retail data with its header and first 5 rows is as follows. \n",
      "\u001b[0m\n"
     ]
    },
    {
     "data": {
      "text/html": [
       "<div>\n",
       "<style scoped>\n",
       "    .dataframe tbody tr th:only-of-type {\n",
       "        vertical-align: middle;\n",
       "    }\n",
       "\n",
       "    .dataframe tbody tr th {\n",
       "        vertical-align: top;\n",
       "    }\n",
       "\n",
       "    .dataframe thead th {\n",
       "        text-align: right;\n",
       "    }\n",
       "</style>\n",
       "<table border=\"1\" class=\"dataframe\">\n",
       "  <thead>\n",
       "    <tr style=\"text-align: right;\">\n",
       "      <th></th>\n",
       "      <th>InvoiceNo</th>\n",
       "      <th>StockCode</th>\n",
       "      <th>Description</th>\n",
       "      <th>Quantity</th>\n",
       "      <th>InvoiceDate</th>\n",
       "      <th>UnitPrice</th>\n",
       "      <th>CustomerID</th>\n",
       "      <th>Country</th>\n",
       "    </tr>\n",
       "  </thead>\n",
       "  <tbody>\n",
       "    <tr>\n",
       "      <th>0</th>\n",
       "      <td>536365</td>\n",
       "      <td>85123A</td>\n",
       "      <td>WHITE HANGING HEART T-LIGHT HOLDER</td>\n",
       "      <td>6</td>\n",
       "      <td>2010-12-01 08:26:00</td>\n",
       "      <td>2.55</td>\n",
       "      <td>17850.0</td>\n",
       "      <td>United Kingdom</td>\n",
       "    </tr>\n",
       "    <tr>\n",
       "      <th>1</th>\n",
       "      <td>536365</td>\n",
       "      <td>71053</td>\n",
       "      <td>WHITE METAL LANTERN</td>\n",
       "      <td>6</td>\n",
       "      <td>2010-12-01 08:26:00</td>\n",
       "      <td>3.39</td>\n",
       "      <td>17850.0</td>\n",
       "      <td>United Kingdom</td>\n",
       "    </tr>\n",
       "    <tr>\n",
       "      <th>2</th>\n",
       "      <td>536365</td>\n",
       "      <td>84406B</td>\n",
       "      <td>CREAM CUPID HEARTS COAT HANGER</td>\n",
       "      <td>8</td>\n",
       "      <td>2010-12-01 08:26:00</td>\n",
       "      <td>2.75</td>\n",
       "      <td>17850.0</td>\n",
       "      <td>United Kingdom</td>\n",
       "    </tr>\n",
       "    <tr>\n",
       "      <th>3</th>\n",
       "      <td>536365</td>\n",
       "      <td>84029G</td>\n",
       "      <td>KNITTED UNION FLAG HOT WATER BOTTLE</td>\n",
       "      <td>6</td>\n",
       "      <td>2010-12-01 08:26:00</td>\n",
       "      <td>3.39</td>\n",
       "      <td>17850.0</td>\n",
       "      <td>United Kingdom</td>\n",
       "    </tr>\n",
       "    <tr>\n",
       "      <th>4</th>\n",
       "      <td>536365</td>\n",
       "      <td>84029E</td>\n",
       "      <td>RED WOOLLY HOTTIE WHITE HEART.</td>\n",
       "      <td>6</td>\n",
       "      <td>2010-12-01 08:26:00</td>\n",
       "      <td>3.39</td>\n",
       "      <td>17850.0</td>\n",
       "      <td>United Kingdom</td>\n",
       "    </tr>\n",
       "  </tbody>\n",
       "</table>\n",
       "</div>"
      ],
      "text/plain": [
       "  InvoiceNo StockCode                          Description  Quantity  \\\n",
       "0    536365    85123A   WHITE HANGING HEART T-LIGHT HOLDER         6   \n",
       "1    536365     71053                  WHITE METAL LANTERN         6   \n",
       "2    536365    84406B       CREAM CUPID HEARTS COAT HANGER         8   \n",
       "3    536365    84029G  KNITTED UNION FLAG HOT WATER BOTTLE         6   \n",
       "4    536365    84029E       RED WOOLLY HOTTIE WHITE HEART.         6   \n",
       "\n",
       "          InvoiceDate  UnitPrice  CustomerID         Country  \n",
       "0 2010-12-01 08:26:00       2.55     17850.0  United Kingdom  \n",
       "1 2010-12-01 08:26:00       3.39     17850.0  United Kingdom  \n",
       "2 2010-12-01 08:26:00       2.75     17850.0  United Kingdom  \n",
       "3 2010-12-01 08:26:00       3.39     17850.0  United Kingdom  \n",
       "4 2010-12-01 08:26:00       3.39     17850.0  United Kingdom  "
      ]
     },
     "execution_count": 5,
     "metadata": {},
     "output_type": "execute_result"
    }
   ],
   "source": [
    "print(color.BLUE + \n",
    "       color.BOLD + \n",
    "       '\\nThe retail data with its header and first 5 rows is as follows. \\n' +\n",
    "       color.END)\n",
    "retailData.head()"
   ]
  },
  {
   "cell_type": "markdown",
   "id": "e4ea879e",
   "metadata": {},
   "source": [
    "From the data it is seen that the two uniques fields are InvoiceNo and CustomerID. The CustomerID is unique to the customer and the InvoiceID to the Invoice of the products. Each customer can have several Invoices."
   ]
  },
  {
   "cell_type": "markdown",
   "id": "14ab7aaf",
   "metadata": {},
   "source": [
    "##### retailData Info"
   ]
  },
  {
   "cell_type": "code",
   "execution_count": 6,
   "id": "0d02c6e3",
   "metadata": {},
   "outputs": [
    {
     "name": "stdout",
     "output_type": "stream",
     "text": [
      "\u001b[94m\u001b[1m\n",
      "The information of retailData is as follows\n",
      "\n",
      "\u001b[0m\u001b[92m<bound method DataFrame.info of        InvoiceNo StockCode                          Description  Quantity  \\\n",
      "0         536365    85123A   WHITE HANGING HEART T-LIGHT HOLDER         6   \n",
      "1         536365     71053                  WHITE METAL LANTERN         6   \n",
      "2         536365    84406B       CREAM CUPID HEARTS COAT HANGER         8   \n",
      "3         536365    84029G  KNITTED UNION FLAG HOT WATER BOTTLE         6   \n",
      "4         536365    84029E       RED WOOLLY HOTTIE WHITE HEART.         6   \n",
      "...          ...       ...                                  ...       ...   \n",
      "541904    581587     22613          PACK OF 20 SPACEBOY NAPKINS        12   \n",
      "541905    581587     22899         CHILDREN'S APRON DOLLY GIRL          6   \n",
      "541906    581587     23254        CHILDRENS CUTLERY DOLLY GIRL          4   \n",
      "541907    581587     23255      CHILDRENS CUTLERY CIRCUS PARADE         4   \n",
      "541908    581587     22138        BAKING SET 9 PIECE RETROSPOT          3   \n",
      "\n",
      "               InvoiceDate  UnitPrice  CustomerID         Country  \n",
      "0      2010-12-01 08:26:00       2.55     17850.0  United Kingdom  \n",
      "1      2010-12-01 08:26:00       3.39     17850.0  United Kingdom  \n",
      "2      2010-12-01 08:26:00       2.75     17850.0  United Kingdom  \n",
      "3      2010-12-01 08:26:00       3.39     17850.0  United Kingdom  \n",
      "4      2010-12-01 08:26:00       3.39     17850.0  United Kingdom  \n",
      "...                    ...        ...         ...             ...  \n",
      "541904 2011-12-09 12:50:00       0.85     12680.0          France  \n",
      "541905 2011-12-09 12:50:00       2.10     12680.0          France  \n",
      "541906 2011-12-09 12:50:00       4.15     12680.0          France  \n",
      "541907 2011-12-09 12:50:00       4.15     12680.0          France  \n",
      "541908 2011-12-09 12:50:00       4.95     12680.0          France  \n",
      "\n",
      "[541909 rows x 8 columns]>\u001b[0m\n"
     ]
    }
   ],
   "source": [
    "print((color.BLUE + \n",
    "       color.BOLD + \n",
    "       '\\nThe information of retailData is as follows\\n\\n' +\n",
    "       color.END +\n",
    "       color.GREEN + \n",
    "       '{}'+\n",
    "       color.END).\n",
    "      format(retailData.info))"
   ]
  },
  {
   "cell_type": "markdown",
   "id": "2b8b0dfe",
   "metadata": {},
   "source": [
    "##### retailData Shape"
   ]
  },
  {
   "cell_type": "code",
   "execution_count": 7,
   "id": "a158ed3e",
   "metadata": {},
   "outputs": [
    {
     "name": "stdout",
     "output_type": "stream",
     "text": [
      "\u001b[94m\u001b[1m\n",
      "The shape of retailData i.e. the number of rows and columns is as follows \n",
      "\n",
      "\t\u001b[0m\u001b[92m(541909, 8)\u001b[0m\n"
     ]
    }
   ],
   "source": [
    "print((color.BLUE + \n",
    "       color.BOLD +\n",
    "       '\\nThe shape of retailData i.e. the number of rows and columns is as follows \\n\\n\\t' +\n",
    "       color.END +\n",
    "       color.GREEN +\n",
    "       '{}'+\n",
    "       color.END).\n",
    "      format(retailData.shape))"
   ]
  },
  {
   "cell_type": "markdown",
   "id": "0b5e2581",
   "metadata": {},
   "source": [
    "##### retailData Type"
   ]
  },
  {
   "cell_type": "code",
   "execution_count": 8,
   "id": "d222967e",
   "metadata": {},
   "outputs": [
    {
     "name": "stdout",
     "output_type": "stream",
     "text": [
      "\u001b[94m\u001b[1m\n",
      "The type of retailData is as follows\n",
      "\n",
      "\t\u001b[0m\u001b[92m<class 'pandas.core.frame.DataFrame'>\u001b[0m\n"
     ]
    }
   ],
   "source": [
    "print((color.BLUE + \n",
    "       color.BOLD + \n",
    "       '\\nThe type of retailData is as follows\\n\\n\\t' +\n",
    "       color.END +\n",
    "       color.GREEN + \n",
    "       '{}'+\n",
    "       color.END).\n",
    "      format(type(retailData)))"
   ]
  },
  {
   "cell_type": "markdown",
   "id": "2cc1aa00",
   "metadata": {},
   "source": [
    "##### retailData Data Types"
   ]
  },
  {
   "cell_type": "code",
   "execution_count": 9,
   "id": "b60dd349",
   "metadata": {},
   "outputs": [
    {
     "name": "stdout",
     "output_type": "stream",
     "text": [
      "\u001b[94m\u001b[1mThe data types of retailData1 are as follows\n",
      "\n",
      "\u001b[0m\u001b[92mInvoiceNo              object\n",
      "StockCode              object\n",
      "Description            object\n",
      "Quantity                int64\n",
      "InvoiceDate    datetime64[ns]\n",
      "UnitPrice             float64\n",
      "CustomerID            float64\n",
      "Country                object\n",
      "dtype: object\u001b[0m\n"
     ]
    }
   ],
   "source": [
    "print((color.BLUE + \n",
    "       color.BOLD + \n",
    "       'The data types of retailData1 are as follows\\n\\n' +\n",
    "       color.END +\n",
    "       color.GREEN + \n",
    "       '{}'+\n",
    "       color.END).\n",
    "      format(retailData.dtypes))"
   ]
  },
  {
   "cell_type": "markdown",
   "id": "bc179737",
   "metadata": {},
   "source": [
    "There are a total of \n",
    "<li>4 objects\n",
    "<li>2 float64\n",
    "<li>1 int 64\n",
    "<li>1 datetime64"
   ]
  },
  {
   "cell_type": "markdown",
   "id": "25a6b5a6",
   "metadata": {},
   "source": [
    "Since CustomerID is a unique value and there is no need to carry any statistical analysis on the same, we can convert it to a string."
   ]
  },
  {
   "cell_type": "markdown",
   "id": "b5c203b5",
   "metadata": {},
   "source": [
    "##### Adding Revenue Column"
   ]
  },
  {
   "cell_type": "code",
   "execution_count": 10,
   "id": "a99f879d",
   "metadata": {},
   "outputs": [
    {
     "name": "stdout",
     "output_type": "stream",
     "text": [
      "\u001b[94m\u001b[1m\n",
      "The head of retailData1 with a new column 'Revenue' is as follows \n",
      "\u001b[0m\n"
     ]
    },
    {
     "data": {
      "text/html": [
       "<div>\n",
       "<style scoped>\n",
       "    .dataframe tbody tr th:only-of-type {\n",
       "        vertical-align: middle;\n",
       "    }\n",
       "\n",
       "    .dataframe tbody tr th {\n",
       "        vertical-align: top;\n",
       "    }\n",
       "\n",
       "    .dataframe thead th {\n",
       "        text-align: right;\n",
       "    }\n",
       "</style>\n",
       "<table border=\"1\" class=\"dataframe\">\n",
       "  <thead>\n",
       "    <tr style=\"text-align: right;\">\n",
       "      <th></th>\n",
       "      <th>InvoiceNo</th>\n",
       "      <th>StockCode</th>\n",
       "      <th>Description</th>\n",
       "      <th>Quantity</th>\n",
       "      <th>InvoiceDate</th>\n",
       "      <th>UnitPrice</th>\n",
       "      <th>CustomerID</th>\n",
       "      <th>Country</th>\n",
       "      <th>Revenue</th>\n",
       "    </tr>\n",
       "  </thead>\n",
       "  <tbody>\n",
       "    <tr>\n",
       "      <th>0</th>\n",
       "      <td>536365</td>\n",
       "      <td>85123A</td>\n",
       "      <td>WHITE HANGING HEART T-LIGHT HOLDER</td>\n",
       "      <td>6</td>\n",
       "      <td>2010-12-01 08:26:00</td>\n",
       "      <td>2.55</td>\n",
       "      <td>17850.0</td>\n",
       "      <td>United Kingdom</td>\n",
       "      <td>15.30</td>\n",
       "    </tr>\n",
       "    <tr>\n",
       "      <th>1</th>\n",
       "      <td>536365</td>\n",
       "      <td>71053</td>\n",
       "      <td>WHITE METAL LANTERN</td>\n",
       "      <td>6</td>\n",
       "      <td>2010-12-01 08:26:00</td>\n",
       "      <td>3.39</td>\n",
       "      <td>17850.0</td>\n",
       "      <td>United Kingdom</td>\n",
       "      <td>20.34</td>\n",
       "    </tr>\n",
       "  </tbody>\n",
       "</table>\n",
       "</div>"
      ],
      "text/plain": [
       "  InvoiceNo StockCode                         Description  Quantity  \\\n",
       "0    536365    85123A  WHITE HANGING HEART T-LIGHT HOLDER         6   \n",
       "1    536365     71053                 WHITE METAL LANTERN         6   \n",
       "\n",
       "          InvoiceDate  UnitPrice  CustomerID         Country  Revenue  \n",
       "0 2010-12-01 08:26:00       2.55     17850.0  United Kingdom    15.30  \n",
       "1 2010-12-01 08:26:00       3.39     17850.0  United Kingdom    20.34  "
      ]
     },
     "execution_count": 10,
     "metadata": {},
     "output_type": "execute_result"
    }
   ],
   "source": [
    "retailData['Revenue'] = retailData['Quantity']*retailData['UnitPrice']\n",
    "print((color.BLUE + \n",
    "       color.BOLD +\n",
    "       \"\\nThe head of retailData1 with a new column 'Revenue' is as follows \\n\" +\n",
    "       color.END))\n",
    "retailData.head(2)"
   ]
  },
  {
   "cell_type": "markdown",
   "id": "66ec267a",
   "metadata": {},
   "source": [
    "<h3>retailData1</h3>\n",
    "\n",
    "Removing the Missing Value from retailData1 and assigning it as retailData1"
   ]
  },
  {
   "cell_type": "code",
   "execution_count": 11,
   "id": "c5914a1d",
   "metadata": {},
   "outputs": [],
   "source": [
    "retailData1 = retailData.copy()"
   ]
  },
  {
   "cell_type": "markdown",
   "id": "16720d80",
   "metadata": {},
   "source": [
    "##### Define a class for checking the Missing Values and checking the number of missing values by column in retailData"
   ]
  },
  {
   "cell_type": "code",
   "execution_count": 12,
   "id": "d366893d",
   "metadata": {},
   "outputs": [
    {
     "name": "stdout",
     "output_type": "stream",
     "text": [
      "Your selected dataframe has 9 columns and 541909 Rows.\n",
      "There are 2 columns that have missing values.\n"
     ]
    },
    {
     "data": {
      "text/html": [
       "<div>\n",
       "<style scoped>\n",
       "    .dataframe tbody tr th:only-of-type {\n",
       "        vertical-align: middle;\n",
       "    }\n",
       "\n",
       "    .dataframe tbody tr th {\n",
       "        vertical-align: top;\n",
       "    }\n",
       "\n",
       "    .dataframe thead th {\n",
       "        text-align: right;\n",
       "    }\n",
       "</style>\n",
       "<table border=\"1\" class=\"dataframe\">\n",
       "  <thead>\n",
       "    <tr style=\"text-align: right;\">\n",
       "      <th></th>\n",
       "      <th>CustomerID</th>\n",
       "      <th>Description</th>\n",
       "    </tr>\n",
       "  </thead>\n",
       "  <tbody>\n",
       "    <tr>\n",
       "      <th>Zero Values</th>\n",
       "      <td>0</td>\n",
       "      <td>0</td>\n",
       "    </tr>\n",
       "    <tr>\n",
       "      <th>Missing Values</th>\n",
       "      <td>135080</td>\n",
       "      <td>1454</td>\n",
       "    </tr>\n",
       "    <tr>\n",
       "      <th>% of Total Values</th>\n",
       "      <td>24.9</td>\n",
       "      <td>0.3</td>\n",
       "    </tr>\n",
       "    <tr>\n",
       "      <th>Total Zero Missing Values</th>\n",
       "      <td>135080</td>\n",
       "      <td>1454</td>\n",
       "    </tr>\n",
       "    <tr>\n",
       "      <th>% Total Zero Missing Values</th>\n",
       "      <td>24.9</td>\n",
       "      <td>0.3</td>\n",
       "    </tr>\n",
       "    <tr>\n",
       "      <th>Data Type</th>\n",
       "      <td>float64</td>\n",
       "      <td>object</td>\n",
       "    </tr>\n",
       "  </tbody>\n",
       "</table>\n",
       "</div>"
      ],
      "text/plain": [
       "                            CustomerID Description\n",
       "Zero Values                          0           0\n",
       "Missing Values                  135080        1454\n",
       "% of Total Values                 24.9         0.3\n",
       "Total Zero Missing Values       135080        1454\n",
       "% Total Zero Missing Values       24.9         0.3\n",
       "Data Type                      float64      object"
      ]
     },
     "execution_count": 12,
     "metadata": {},
     "output_type": "execute_result"
    }
   ],
   "source": [
    "def missing_zero_values_table(df):\n",
    "        zero_val = (df == 0.00).astype(int).sum(axis=0)\n",
    "        mis_val = df.isnull().sum()\n",
    "        mis_val_percent = 100 * df.isnull().sum() / len(df)\n",
    "        mz_table = pd.concat([zero_val,\n",
    "                              mis_val,\n",
    "                              mis_val_percent],\n",
    "                              axis=1)\n",
    "        mz_table = mz_table.rename(\n",
    "        columns = {0 : 'Zero Values', 1 : 'Missing Values', 2 : '% of Total Values'})\n",
    "        mz_table['Total Zero Missing Values'] = mz_table['Zero Values'] + mz_table['Missing Values']\n",
    "        mz_table['% Total Zero Missing Values'] = 100 * mz_table['Total Zero Missing Values'] / len(df)\n",
    "        mz_table['Data Type'] = df.dtypes\n",
    "        mz_table = mz_table[\n",
    "            mz_table.iloc[:,1] != 0].sort_values(\n",
    "        '% of Total Values', ascending=False).round(1)\n",
    "        print (\"Your selected dataframe has \" + str(df.shape[1]) + \" columns and \" + str(df.shape[0]) + \" Rows.\\n\"      \n",
    "            \"There are \" + str(mz_table.shape[0]) +\n",
    "              \" columns that have missing values.\")\n",
    "#         mz_table.to_excel('D:/sampledata/missing_and_zero_values.xlsx', freeze_panes=(1,0), index = False)\n",
    "        return mz_table\n",
    "\n",
    "missing_zero_values_table(retailData).transpose()"
   ]
  },
  {
   "cell_type": "markdown",
   "id": "62b01f08",
   "metadata": {},
   "source": [
    "The columns with Missing Values are Description and CustomerID. Since CustomerID is a Unique Identity of a customer it can not be imputed. Thus for a proper analysis these rows will have to be dropped. Description will not affect the results both due to the nature of the column as well as the low number of na's. Also note CustomeID is a float when it does not need to be statistically evaluated and could be a string."
   ]
  },
  {
   "cell_type": "markdown",
   "id": "6a3a20dd",
   "metadata": {},
   "source": [
    "##### Removing Missing Values"
   ]
  },
  {
   "cell_type": "code",
   "execution_count": 13,
   "id": "c471bf40",
   "metadata": {},
   "outputs": [
    {
     "name": "stdout",
     "output_type": "stream",
     "text": [
      "\u001b[94m\u001b[1m\n",
      "The shape of retailData after dropping the NAs is as follows \n",
      "\n",
      "\t\u001b[0m\u001b[92m(406829, 9)\u001b[0m\n"
     ]
    }
   ],
   "source": [
    "retailData1 = retailData1.dropna()\n",
    "print((color.BLUE + \n",
    "       color.BOLD +\n",
    "       '\\nThe shape of retailData after dropping the NAs is as follows \\n\\n\\t' +\n",
    "       color.END +\n",
    "       color.GREEN +\n",
    "       '{}'+\n",
    "       color.END).\n",
    "      format(retailData1.shape))"
   ]
  },
  {
   "cell_type": "markdown",
   "id": "d8d9f1a0",
   "metadata": {},
   "source": [
    "<h3> Exploratory Data Analysis </h3>"
   ]
  },
  {
   "cell_type": "code",
   "execution_count": 14,
   "id": "677eff98",
   "metadata": {
    "scrolled": true
   },
   "outputs": [
    {
     "name": "stdout",
     "output_type": "stream",
     "text": [
      "\u001b[1m\u001b[94mThe datatypes in retailData1 are as follows \n",
      "\u001b[0m\n",
      "\u001b[95mInvoiceNo \t : \t\t Object Types\u001b[0m\n",
      "\u001b[95mStockCode \t : \t\t Object Types\u001b[0m\n",
      "\u001b[95mDescription \t : \t\t Object Types\u001b[0m\n",
      "\u001b[94mQuantity \t : \t\t Int Types\u001b[0m\n",
      "InvoiceDate \t : \t\t Date Time\n",
      "\u001b[96mUnitPrice \t : \t\t Float Types\u001b[0m\n",
      "\u001b[95mCustomerID \t : \t\t Object Types\u001b[0m\n",
      "\u001b[95mCountry \t : \t\t Object Types\u001b[0m\n",
      "\u001b[96mRevenue \t : \t\t Float Types\u001b[0m\n"
     ]
    }
   ],
   "source": [
    "retailData1['CustomerID'] = retailData1['CustomerID'].astype(str)\n",
    "\n",
    "print(color.BOLD +\n",
    "      color.BLUE +\n",
    "      'The datatypes in retailData1 are as follows \\n'+\n",
    "     color.END)\n",
    "for i in retailData1.columns:\n",
    "    a=retailData1[i].dtype\n",
    "    if a == 'object':\n",
    "        print(color.PURPLE +\n",
    "              \"{} \\t : \\t\\t Object Types\".format(i)+\n",
    "             color.END)\n",
    "    elif a == 'int64':\n",
    "        print(color.BLUE +\n",
    "              \"{} \\t : \\t\\t Int Types\".format(i)+\n",
    "             color.END)\n",
    "    elif a == 'float64':\n",
    "        print(color.CYAN +\n",
    "            \"{} \\t : \\t\\t Float Types\".format(i)+\n",
    "             color.END)\n",
    "    else:\n",
    "        print(\"{} \\t : \\t\\t Date Time\".format(i))"
   ]
  },
  {
   "cell_type": "markdown",
   "id": "26897cfb",
   "metadata": {},
   "source": [
    "<h5>Analysis of Numeric Dimensions of retailData1</h5>"
   ]
  },
  {
   "cell_type": "code",
   "execution_count": 15,
   "id": "e167f7af",
   "metadata": {},
   "outputs": [
    {
     "name": "stdout",
     "output_type": "stream",
     "text": [
      "\u001b[94m\u001b[1m\n",
      "The details of retailData are as follows.\u001b[0m\n"
     ]
    },
    {
     "data": {
      "text/html": [
       "<div>\n",
       "<style scoped>\n",
       "    .dataframe tbody tr th:only-of-type {\n",
       "        vertical-align: middle;\n",
       "    }\n",
       "\n",
       "    .dataframe tbody tr th {\n",
       "        vertical-align: top;\n",
       "    }\n",
       "\n",
       "    .dataframe thead th {\n",
       "        text-align: right;\n",
       "    }\n",
       "</style>\n",
       "<table border=\"1\" class=\"dataframe\">\n",
       "  <thead>\n",
       "    <tr style=\"text-align: right;\">\n",
       "      <th></th>\n",
       "      <th>Quantity</th>\n",
       "      <th>InvoiceDate</th>\n",
       "      <th>UnitPrice</th>\n",
       "      <th>Revenue</th>\n",
       "    </tr>\n",
       "  </thead>\n",
       "  <tbody>\n",
       "    <tr>\n",
       "      <th>count</th>\n",
       "      <td>406829.000000</td>\n",
       "      <td>406829</td>\n",
       "      <td>406829.000000</td>\n",
       "      <td>406829.000000</td>\n",
       "    </tr>\n",
       "    <tr>\n",
       "      <th>mean</th>\n",
       "      <td>12.061303</td>\n",
       "      <td>2011-07-10 16:30:57.879207424</td>\n",
       "      <td>3.460471</td>\n",
       "      <td>20.401854</td>\n",
       "    </tr>\n",
       "    <tr>\n",
       "      <th>min</th>\n",
       "      <td>-80995.000000</td>\n",
       "      <td>2010-12-01 08:26:00</td>\n",
       "      <td>0.000000</td>\n",
       "      <td>-168469.600000</td>\n",
       "    </tr>\n",
       "    <tr>\n",
       "      <th>25%</th>\n",
       "      <td>2.000000</td>\n",
       "      <td>2011-04-06 15:02:00</td>\n",
       "      <td>1.250000</td>\n",
       "      <td>4.200000</td>\n",
       "    </tr>\n",
       "    <tr>\n",
       "      <th>50%</th>\n",
       "      <td>5.000000</td>\n",
       "      <td>2011-07-31 11:48:00</td>\n",
       "      <td>1.950000</td>\n",
       "      <td>11.100000</td>\n",
       "    </tr>\n",
       "    <tr>\n",
       "      <th>75%</th>\n",
       "      <td>12.000000</td>\n",
       "      <td>2011-10-20 13:06:00</td>\n",
       "      <td>3.750000</td>\n",
       "      <td>19.500000</td>\n",
       "    </tr>\n",
       "    <tr>\n",
       "      <th>max</th>\n",
       "      <td>80995.000000</td>\n",
       "      <td>2011-12-09 12:50:00</td>\n",
       "      <td>38970.000000</td>\n",
       "      <td>168469.600000</td>\n",
       "    </tr>\n",
       "    <tr>\n",
       "      <th>std</th>\n",
       "      <td>248.693370</td>\n",
       "      <td>NaN</td>\n",
       "      <td>69.315162</td>\n",
       "      <td>427.591718</td>\n",
       "    </tr>\n",
       "  </tbody>\n",
       "</table>\n",
       "</div>"
      ],
      "text/plain": [
       "            Quantity                    InvoiceDate      UnitPrice  \\\n",
       "count  406829.000000                         406829  406829.000000   \n",
       "mean       12.061303  2011-07-10 16:30:57.879207424       3.460471   \n",
       "min    -80995.000000            2010-12-01 08:26:00       0.000000   \n",
       "25%         2.000000            2011-04-06 15:02:00       1.250000   \n",
       "50%         5.000000            2011-07-31 11:48:00       1.950000   \n",
       "75%        12.000000            2011-10-20 13:06:00       3.750000   \n",
       "max     80995.000000            2011-12-09 12:50:00   38970.000000   \n",
       "std       248.693370                            NaN      69.315162   \n",
       "\n",
       "             Revenue  \n",
       "count  406829.000000  \n",
       "mean       20.401854  \n",
       "min   -168469.600000  \n",
       "25%         4.200000  \n",
       "50%        11.100000  \n",
       "75%        19.500000  \n",
       "max    168469.600000  \n",
       "std       427.591718  "
      ]
     },
     "execution_count": 15,
     "metadata": {},
     "output_type": "execute_result"
    }
   ],
   "source": [
    "print(color.BLUE +\n",
    "      color.BOLD +\n",
    "      '\\nThe details of retailData are as follows.' +\n",
    "     color.END) \n",
    "retailData1.describe(datetime_is_numeric=True)"
   ]
  },
  {
   "cell_type": "markdown",
   "id": "0be87b19",
   "metadata": {},
   "source": [
    "<li>The minimum for Quantity and Revenue show negative values indicating that these could either be refunds or erros\n",
    "<li>The max and min values in Quantity seems to be an outlier as these are hugely different from the 3rd quartile. Moreover since these are equal and opposite, there could be either a refund or indicate an anomaly.\n",
    "<li>The data is from 2010-12-01 to 2011-12-09. Note from 2010-12-01 to 2011-11-30 are full months and from 2011-12-01 to 2011-12-09 is a partial month of 9 days. Thus for monthly analysis these 9 days in Dec-2011 could be disregarded."
   ]
  },
  {
   "cell_type": "markdown",
   "id": "3e72ae56",
   "metadata": {},
   "source": [
    "<h5>Lets check the data dispersion visually through a boxplot as well</h5>"
   ]
  },
  {
   "cell_type": "code",
   "execution_count": 16,
   "id": "2d65fee7",
   "metadata": {},
   "outputs": [
    {
     "name": "stdout",
     "output_type": "stream",
     "text": [
      "\u001b[94m\u001b[1m\n",
      "The boxplot is used to check the dipersion of data and hence the outliers. \n",
      "\u001b[0m\n"
     ]
    },
    {
     "data": {
      "image/png": "[encoded data removed]",
      "text/plain": [
       "<Figure size 432x576 with 1 Axes>"
      ]
     },
     "metadata": {},
     "output_type": "display_data"
    }
   ],
   "source": [
    "print(color.BLUE +\n",
    "      color.BOLD +\n",
    "      '\\nThe boxplot is used to check the dipersion of data and hence the outliers. \\n' +\n",
    "      color.END.\n",
    "      format(retailData1.boxplot(column=['Quantity','UnitPrice','Revenue'],\n",
    "                    figsize=(6,8)).set_ylabel('Dispersion of Quantity and Unit Price')))"
   ]
  },
  {
   "cell_type": "markdown",
   "id": "20ad502a",
   "metadata": {},
   "source": [
    "<li>From the above it can be seen that there are two outliers in the Quantity which have the same positive and negative value.\n",
    "<li>These could be erroneously purchased and returned or there could be a clerical errors.\n",
    "<li>In the UnitPrice section there is only one outlier on the negative side. This could correspond to one returen and refund.<li>Thus, at lease one Quantity seems to be erroneous the one has a corresponding negative Unit Price."
   ]
  },
  {
   "cell_type": "markdown",
   "id": "3728903f",
   "metadata": {},
   "source": [
    "<h5> Let's also assess the Categorical Columns.</h5> "
   ]
  },
  {
   "cell_type": "code",
   "execution_count": 17,
   "id": "c14ee325",
   "metadata": {},
   "outputs": [
    {
     "name": "stdout",
     "output_type": "stream",
     "text": [
      "\u001b[94m\u001b[1m\n",
      "The description of retailData1 is as follows.\u001b[0m\n"
     ]
    },
    {
     "data": {
      "text/html": [
       "<div>\n",
       "<style scoped>\n",
       "    .dataframe tbody tr th:only-of-type {\n",
       "        vertical-align: middle;\n",
       "    }\n",
       "\n",
       "    .dataframe tbody tr th {\n",
       "        vertical-align: top;\n",
       "    }\n",
       "\n",
       "    .dataframe thead th {\n",
       "        text-align: right;\n",
       "    }\n",
       "</style>\n",
       "<table border=\"1\" class=\"dataframe\">\n",
       "  <thead>\n",
       "    <tr style=\"text-align: right;\">\n",
       "      <th></th>\n",
       "      <th>InvoiceNo</th>\n",
       "      <th>StockCode</th>\n",
       "      <th>Description</th>\n",
       "      <th>CustomerID</th>\n",
       "      <th>Country</th>\n",
       "    </tr>\n",
       "  </thead>\n",
       "  <tbody>\n",
       "    <tr>\n",
       "      <th>count</th>\n",
       "      <td>406829</td>\n",
       "      <td>406829</td>\n",
       "      <td>406829</td>\n",
       "      <td>406829</td>\n",
       "      <td>406829</td>\n",
       "    </tr>\n",
       "    <tr>\n",
       "      <th>unique</th>\n",
       "      <td>22190</td>\n",
       "      <td>3684</td>\n",
       "      <td>3896</td>\n",
       "      <td>4372</td>\n",
       "      <td>37</td>\n",
       "    </tr>\n",
       "    <tr>\n",
       "      <th>top</th>\n",
       "      <td>576339</td>\n",
       "      <td>85123A</td>\n",
       "      <td>WHITE HANGING HEART T-LIGHT HOLDER</td>\n",
       "      <td>17841.0</td>\n",
       "      <td>United Kingdom</td>\n",
       "    </tr>\n",
       "    <tr>\n",
       "      <th>freq</th>\n",
       "      <td>542</td>\n",
       "      <td>2077</td>\n",
       "      <td>2070</td>\n",
       "      <td>7983</td>\n",
       "      <td>361878</td>\n",
       "    </tr>\n",
       "  </tbody>\n",
       "</table>\n",
       "</div>"
      ],
      "text/plain": [
       "        InvoiceNo StockCode                         Description CustomerID  \\\n",
       "count      406829    406829                              406829     406829   \n",
       "unique      22190      3684                                3896       4372   \n",
       "top        576339    85123A  WHITE HANGING HEART T-LIGHT HOLDER    17841.0   \n",
       "freq          542      2077                                2070       7983   \n",
       "\n",
       "               Country  \n",
       "count           406829  \n",
       "unique              37  \n",
       "top     United Kingdom  \n",
       "freq            361878  "
      ]
     },
     "execution_count": 17,
     "metadata": {},
     "output_type": "execute_result"
    }
   ],
   "source": [
    "print(color.BLUE +\n",
    "      color.BOLD +\n",
    "    '\\nThe description of retailData1 is as follows.' +\n",
    "     color.END) \n",
    "\n",
    "retailData1.describe(include=['O'])"
   ]
  },
  {
   "cell_type": "markdown",
   "id": "7009005e",
   "metadata": {},
   "source": [
    "<li>There are 37 unique countries and the top country is 'United Kingdom' with a freq of 361878 \n",
    "<li>There are 3896 unique product descriptions and the top product description in 'WHITE HANGING HEART T-LIGHT HOLDER' with a freq of 2070. There are 3684 unique Stock Codes. Thus, some Item Descriptions could have the same stock code. The StockCode 85123A has topped with a freq of 2077.\n",
    "<li>There are 4372 unique CustomerIDs with the CustomerIID 17841 having a freq of 7983"
   ]
  },
  {
   "cell_type": "markdown",
   "id": "15b3701a",
   "metadata": {},
   "source": [
    "<h3>retailData2</h3>\n",
    "\n",
    "Removing the Duplicate Value from retailData1 and assigning it as retailData2"
   ]
  },
  {
   "cell_type": "markdown",
   "id": "55e06ca5",
   "metadata": {},
   "source": [
    "<h5> Number of Duplicate Values in retailData1</h5> "
   ]
  },
  {
   "cell_type": "code",
   "execution_count": 18,
   "id": "523d7d31",
   "metadata": {},
   "outputs": [
    {
     "name": "stdout",
     "output_type": "stream",
     "text": [
      "\u001b[1m\u001b[94mThe total no. of duplicates rows which need to be deleted are \n",
      "\n",
      "\t\u001b[0m5225\n"
     ]
    }
   ],
   "source": [
    "print(color.BOLD +\n",
    "      color.BLUE +\n",
    "      'The total no. of duplicates rows which need to be deleted are \\n\\n\\t' +\n",
    "      color.END +\n",
    "      '{}'.\n",
    "      format(retailData1.duplicated().sum()))"
   ]
  },
  {
   "cell_type": "markdown",
   "id": "c8cca1ec",
   "metadata": {},
   "source": [
    "<h5> Remvoming duplicates from retailData1 and reasigning as retailData2</h5> "
   ]
  },
  {
   "cell_type": "code",
   "execution_count": 19,
   "id": "b6adfb99",
   "metadata": {},
   "outputs": [
    {
     "name": "stdout",
     "output_type": "stream",
     "text": [
      "\u001b[1m\u001b[94mThe shape of retailData4 \n",
      "\n",
      "\t\u001b[0m(401604, 9)\n"
     ]
    }
   ],
   "source": [
    "retailData2 = retailData1.drop_duplicates()\n",
    "\n",
    "print(color.BOLD +\n",
    "      color.BLUE +\n",
    "      'The shape of retailData4 \\n\\n\\t' +\n",
    "      color.END +\n",
    "      '{}'.\n",
    "      format(retailData2.shape))"
   ]
  },
  {
   "cell_type": "markdown",
   "id": "a17f3a22",
   "metadata": {},
   "source": [
    "Let's assess the Refunds\n",
    "The Invoice No of refunds starts with the 'C' in InvoiceNo <br>"
   ]
  },
  {
   "cell_type": "code",
   "execution_count": 20,
   "id": "def536fa",
   "metadata": {},
   "outputs": [
    {
     "data": {
      "text/html": [
       "<div>\n",
       "<style scoped>\n",
       "    .dataframe tbody tr th:only-of-type {\n",
       "        vertical-align: middle;\n",
       "    }\n",
       "\n",
       "    .dataframe tbody tr th {\n",
       "        vertical-align: top;\n",
       "    }\n",
       "\n",
       "    .dataframe thead th {\n",
       "        text-align: right;\n",
       "    }\n",
       "</style>\n",
       "<table border=\"1\" class=\"dataframe\">\n",
       "  <thead>\n",
       "    <tr style=\"text-align: right;\">\n",
       "      <th></th>\n",
       "      <th>InvoiceNo</th>\n",
       "      <th>StockCode</th>\n",
       "      <th>Description</th>\n",
       "      <th>Quantity</th>\n",
       "      <th>InvoiceDate</th>\n",
       "      <th>UnitPrice</th>\n",
       "      <th>CustomerID</th>\n",
       "      <th>Country</th>\n",
       "      <th>Revenue</th>\n",
       "    </tr>\n",
       "  </thead>\n",
       "  <tbody>\n",
       "    <tr>\n",
       "      <th>141</th>\n",
       "      <td>C536379</td>\n",
       "      <td>D</td>\n",
       "      <td>Discount</td>\n",
       "      <td>-1</td>\n",
       "      <td>2010-12-01 09:41:00</td>\n",
       "      <td>27.50</td>\n",
       "      <td>14527.0</td>\n",
       "      <td>United Kingdom</td>\n",
       "      <td>-27.50</td>\n",
       "    </tr>\n",
       "    <tr>\n",
       "      <th>154</th>\n",
       "      <td>C536383</td>\n",
       "      <td>35004C</td>\n",
       "      <td>SET OF 3 COLOURED  FLYING DUCKS</td>\n",
       "      <td>-1</td>\n",
       "      <td>2010-12-01 09:49:00</td>\n",
       "      <td>4.65</td>\n",
       "      <td>15311.0</td>\n",
       "      <td>United Kingdom</td>\n",
       "      <td>-4.65</td>\n",
       "    </tr>\n",
       "    <tr>\n",
       "      <th>235</th>\n",
       "      <td>C536391</td>\n",
       "      <td>22556</td>\n",
       "      <td>PLASTERS IN TIN CIRCUS PARADE</td>\n",
       "      <td>-12</td>\n",
       "      <td>2010-12-01 10:24:00</td>\n",
       "      <td>1.65</td>\n",
       "      <td>17548.0</td>\n",
       "      <td>United Kingdom</td>\n",
       "      <td>-19.80</td>\n",
       "    </tr>\n",
       "    <tr>\n",
       "      <th>236</th>\n",
       "      <td>C536391</td>\n",
       "      <td>21984</td>\n",
       "      <td>PACK OF 12 PINK PAISLEY TISSUES</td>\n",
       "      <td>-24</td>\n",
       "      <td>2010-12-01 10:24:00</td>\n",
       "      <td>0.29</td>\n",
       "      <td>17548.0</td>\n",
       "      <td>United Kingdom</td>\n",
       "      <td>-6.96</td>\n",
       "    </tr>\n",
       "    <tr>\n",
       "      <th>237</th>\n",
       "      <td>C536391</td>\n",
       "      <td>21983</td>\n",
       "      <td>PACK OF 12 BLUE PAISLEY TISSUES</td>\n",
       "      <td>-24</td>\n",
       "      <td>2010-12-01 10:24:00</td>\n",
       "      <td>0.29</td>\n",
       "      <td>17548.0</td>\n",
       "      <td>United Kingdom</td>\n",
       "      <td>-6.96</td>\n",
       "    </tr>\n",
       "    <tr>\n",
       "      <th>...</th>\n",
       "      <td>...</td>\n",
       "      <td>...</td>\n",
       "      <td>...</td>\n",
       "      <td>...</td>\n",
       "      <td>...</td>\n",
       "      <td>...</td>\n",
       "      <td>...</td>\n",
       "      <td>...</td>\n",
       "      <td>...</td>\n",
       "    </tr>\n",
       "    <tr>\n",
       "      <th>540449</th>\n",
       "      <td>C581490</td>\n",
       "      <td>23144</td>\n",
       "      <td>ZINC T-LIGHT HOLDER STARS SMALL</td>\n",
       "      <td>-11</td>\n",
       "      <td>2011-12-09 09:57:00</td>\n",
       "      <td>0.83</td>\n",
       "      <td>14397.0</td>\n",
       "      <td>United Kingdom</td>\n",
       "      <td>-9.13</td>\n",
       "    </tr>\n",
       "    <tr>\n",
       "      <th>541541</th>\n",
       "      <td>C581499</td>\n",
       "      <td>M</td>\n",
       "      <td>Manual</td>\n",
       "      <td>-1</td>\n",
       "      <td>2011-12-09 10:28:00</td>\n",
       "      <td>224.69</td>\n",
       "      <td>15498.0</td>\n",
       "      <td>United Kingdom</td>\n",
       "      <td>-224.69</td>\n",
       "    </tr>\n",
       "    <tr>\n",
       "      <th>541715</th>\n",
       "      <td>C581568</td>\n",
       "      <td>21258</td>\n",
       "      <td>VICTORIAN SEWING BOX LARGE</td>\n",
       "      <td>-5</td>\n",
       "      <td>2011-12-09 11:57:00</td>\n",
       "      <td>10.95</td>\n",
       "      <td>15311.0</td>\n",
       "      <td>United Kingdom</td>\n",
       "      <td>-54.75</td>\n",
       "    </tr>\n",
       "    <tr>\n",
       "      <th>541716</th>\n",
       "      <td>C581569</td>\n",
       "      <td>84978</td>\n",
       "      <td>HANGING HEART JAR T-LIGHT HOLDER</td>\n",
       "      <td>-1</td>\n",
       "      <td>2011-12-09 11:58:00</td>\n",
       "      <td>1.25</td>\n",
       "      <td>17315.0</td>\n",
       "      <td>United Kingdom</td>\n",
       "      <td>-1.25</td>\n",
       "    </tr>\n",
       "    <tr>\n",
       "      <th>541717</th>\n",
       "      <td>C581569</td>\n",
       "      <td>20979</td>\n",
       "      <td>36 PENCILS TUBE RED RETROSPOT</td>\n",
       "      <td>-5</td>\n",
       "      <td>2011-12-09 11:58:00</td>\n",
       "      <td>1.25</td>\n",
       "      <td>17315.0</td>\n",
       "      <td>United Kingdom</td>\n",
       "      <td>-6.25</td>\n",
       "    </tr>\n",
       "  </tbody>\n",
       "</table>\n",
       "<p>8872 rows × 9 columns</p>\n",
       "</div>"
      ],
      "text/plain": [
       "       InvoiceNo StockCode                       Description  Quantity  \\\n",
       "141      C536379         D                          Discount        -1   \n",
       "154      C536383    35004C   SET OF 3 COLOURED  FLYING DUCKS        -1   \n",
       "235      C536391     22556    PLASTERS IN TIN CIRCUS PARADE        -12   \n",
       "236      C536391     21984  PACK OF 12 PINK PAISLEY TISSUES        -24   \n",
       "237      C536391     21983  PACK OF 12 BLUE PAISLEY TISSUES        -24   \n",
       "...          ...       ...                               ...       ...   \n",
       "540449   C581490     23144   ZINC T-LIGHT HOLDER STARS SMALL       -11   \n",
       "541541   C581499         M                            Manual        -1   \n",
       "541715   C581568     21258        VICTORIAN SEWING BOX LARGE        -5   \n",
       "541716   C581569     84978  HANGING HEART JAR T-LIGHT HOLDER        -1   \n",
       "541717   C581569     20979     36 PENCILS TUBE RED RETROSPOT        -5   \n",
       "\n",
       "               InvoiceDate  UnitPrice CustomerID         Country  Revenue  \n",
       "141    2010-12-01 09:41:00      27.50    14527.0  United Kingdom   -27.50  \n",
       "154    2010-12-01 09:49:00       4.65    15311.0  United Kingdom    -4.65  \n",
       "235    2010-12-01 10:24:00       1.65    17548.0  United Kingdom   -19.80  \n",
       "236    2010-12-01 10:24:00       0.29    17548.0  United Kingdom    -6.96  \n",
       "237    2010-12-01 10:24:00       0.29    17548.0  United Kingdom    -6.96  \n",
       "...                    ...        ...        ...             ...      ...  \n",
       "540449 2011-12-09 09:57:00       0.83    14397.0  United Kingdom    -9.13  \n",
       "541541 2011-12-09 10:28:00     224.69    15498.0  United Kingdom  -224.69  \n",
       "541715 2011-12-09 11:57:00      10.95    15311.0  United Kingdom   -54.75  \n",
       "541716 2011-12-09 11:58:00       1.25    17315.0  United Kingdom    -1.25  \n",
       "541717 2011-12-09 11:58:00       1.25    17315.0  United Kingdom    -6.25  \n",
       "\n",
       "[8872 rows x 9 columns]"
      ]
     },
     "execution_count": 20,
     "metadata": {},
     "output_type": "execute_result"
    }
   ],
   "source": [
    "retailData2[retailData2[\"InvoiceNo\"].\n",
    "            str.startswith('C',\n",
    "                       na=False)]"
   ]
  },
  {
   "cell_type": "markdown",
   "id": "18629417",
   "metadata": {},
   "source": [
    "<h3>retailData3</h3>\n",
    "\n",
    "Removing the refunds be removing all negative values and assigning it as retailData3"
   ]
  },
  {
   "cell_type": "code",
   "execution_count": 21,
   "id": "b56650ec",
   "metadata": {},
   "outputs": [
    {
     "name": "stdout",
     "output_type": "stream",
     "text": [
      "\u001b[94m\u001b[1m\n",
      "The shape of retailData2 is as follows \n",
      "\n",
      "\t\u001b[0m\u001b[92m(392732, 9)\u001b[0m\n"
     ]
    }
   ],
   "source": [
    "retailData3 = retailData2[retailData2[\"UnitPrice\"]>=0]\n",
    "retailData3 = retailData2[retailData2[\"Quantity\"]>=0]\n",
    "print((color.BLUE + \n",
    "       color.BOLD +\n",
    "       '\\nThe shape of retailData2 is as follows \\n\\n\\t' +\n",
    "       color.END +\n",
    "       color.GREEN +\n",
    "       '{}'+\n",
    "       color.END).\n",
    "      format(retailData3.shape))"
   ]
  },
  {
   "cell_type": "markdown",
   "id": "c7536ca0",
   "metadata": {},
   "source": [
    "Let's check the description of the new dataset after removing the negative values."
   ]
  },
  {
   "cell_type": "code",
   "execution_count": 22,
   "id": "1e5f7c73",
   "metadata": {},
   "outputs": [
    {
     "data": {
      "text/html": [
       "<div>\n",
       "<style scoped>\n",
       "    .dataframe tbody tr th:only-of-type {\n",
       "        vertical-align: middle;\n",
       "    }\n",
       "\n",
       "    .dataframe tbody tr th {\n",
       "        vertical-align: top;\n",
       "    }\n",
       "\n",
       "    .dataframe thead th {\n",
       "        text-align: right;\n",
       "    }\n",
       "</style>\n",
       "<table border=\"1\" class=\"dataframe\">\n",
       "  <thead>\n",
       "    <tr style=\"text-align: right;\">\n",
       "      <th></th>\n",
       "      <th>count</th>\n",
       "      <th>mean</th>\n",
       "      <th>std</th>\n",
       "      <th>min</th>\n",
       "      <th>25%</th>\n",
       "      <th>50%</th>\n",
       "      <th>75%</th>\n",
       "      <th>max</th>\n",
       "    </tr>\n",
       "  </thead>\n",
       "  <tbody>\n",
       "    <tr>\n",
       "      <th>Quantity</th>\n",
       "      <td>392732.0</td>\n",
       "      <td>13.153718</td>\n",
       "      <td>181.588420</td>\n",
       "      <td>1.0</td>\n",
       "      <td>2.00</td>\n",
       "      <td>6.00</td>\n",
       "      <td>12.00</td>\n",
       "      <td>80995.00</td>\n",
       "    </tr>\n",
       "    <tr>\n",
       "      <th>UnitPrice</th>\n",
       "      <td>392732.0</td>\n",
       "      <td>3.125596</td>\n",
       "      <td>22.240725</td>\n",
       "      <td>0.0</td>\n",
       "      <td>1.25</td>\n",
       "      <td>1.95</td>\n",
       "      <td>3.75</td>\n",
       "      <td>8142.75</td>\n",
       "    </tr>\n",
       "    <tr>\n",
       "      <th>Revenue</th>\n",
       "      <td>392732.0</td>\n",
       "      <td>22.629195</td>\n",
       "      <td>311.083465</td>\n",
       "      <td>0.0</td>\n",
       "      <td>4.95</td>\n",
       "      <td>12.39</td>\n",
       "      <td>19.80</td>\n",
       "      <td>168469.60</td>\n",
       "    </tr>\n",
       "  </tbody>\n",
       "</table>\n",
       "</div>"
      ],
      "text/plain": [
       "              count       mean         std  min   25%    50%    75%        max\n",
       "Quantity   392732.0  13.153718  181.588420  1.0  2.00   6.00  12.00   80995.00\n",
       "UnitPrice  392732.0   3.125596   22.240725  0.0  1.25   1.95   3.75    8142.75\n",
       "Revenue    392732.0  22.629195  311.083465  0.0  4.95  12.39  19.80  168469.60"
      ]
     },
     "execution_count": 22,
     "metadata": {},
     "output_type": "execute_result"
    }
   ],
   "source": [
    "retailData3.describe().transpose()"
   ]
  },
  {
   "cell_type": "code",
   "execution_count": 23,
   "id": "a3b67f05",
   "metadata": {},
   "outputs": [
    {
     "name": "stdout",
     "output_type": "stream",
     "text": [
      "\u001b[94m\u001b[1m\n",
      "The description of retailData1 is as follows.\u001b[0m\n"
     ]
    },
    {
     "data": {
      "text/html": [
       "<div>\n",
       "<style scoped>\n",
       "    .dataframe tbody tr th:only-of-type {\n",
       "        vertical-align: middle;\n",
       "    }\n",
       "\n",
       "    .dataframe tbody tr th {\n",
       "        vertical-align: top;\n",
       "    }\n",
       "\n",
       "    .dataframe thead th {\n",
       "        text-align: right;\n",
       "    }\n",
       "</style>\n",
       "<table border=\"1\" class=\"dataframe\">\n",
       "  <thead>\n",
       "    <tr style=\"text-align: right;\">\n",
       "      <th></th>\n",
       "      <th>count</th>\n",
       "      <th>unique</th>\n",
       "      <th>top</th>\n",
       "      <th>freq</th>\n",
       "    </tr>\n",
       "  </thead>\n",
       "  <tbody>\n",
       "    <tr>\n",
       "      <th>InvoiceNo</th>\n",
       "      <td>392732</td>\n",
       "      <td>18536</td>\n",
       "      <td>576339</td>\n",
       "      <td>542</td>\n",
       "    </tr>\n",
       "    <tr>\n",
       "      <th>StockCode</th>\n",
       "      <td>392732</td>\n",
       "      <td>3665</td>\n",
       "      <td>85123A</td>\n",
       "      <td>2023</td>\n",
       "    </tr>\n",
       "    <tr>\n",
       "      <th>Description</th>\n",
       "      <td>392732</td>\n",
       "      <td>3877</td>\n",
       "      <td>WHITE HANGING HEART T-LIGHT HOLDER</td>\n",
       "      <td>2016</td>\n",
       "    </tr>\n",
       "    <tr>\n",
       "      <th>CustomerID</th>\n",
       "      <td>392732</td>\n",
       "      <td>4339</td>\n",
       "      <td>17841.0</td>\n",
       "      <td>7676</td>\n",
       "    </tr>\n",
       "    <tr>\n",
       "      <th>Country</th>\n",
       "      <td>392732</td>\n",
       "      <td>37</td>\n",
       "      <td>United Kingdom</td>\n",
       "      <td>349227</td>\n",
       "    </tr>\n",
       "  </tbody>\n",
       "</table>\n",
       "</div>"
      ],
      "text/plain": [
       "              count unique                                 top    freq\n",
       "InvoiceNo    392732  18536                              576339     542\n",
       "StockCode    392732   3665                              85123A    2023\n",
       "Description  392732   3877  WHITE HANGING HEART T-LIGHT HOLDER    2016\n",
       "CustomerID   392732   4339                             17841.0    7676\n",
       "Country      392732     37                      United Kingdom  349227"
      ]
     },
     "execution_count": 23,
     "metadata": {},
     "output_type": "execute_result"
    }
   ],
   "source": [
    "print(color.BLUE +\n",
    "      color.BOLD +\n",
    "    '\\nThe description of retailData1 is as follows.' +\n",
    "     color.END) \n",
    "\n",
    "retailData3.describe(include=['O']).transpose()"
   ]
  },
  {
   "cell_type": "markdown",
   "id": "db3c06d6",
   "metadata": {},
   "source": [
    "Out of the 392732 entries there are 4339 unique customers from 37 countries who have ordered 3877 different products through 18536 different invoices."
   ]
  },
  {
   "cell_type": "markdown",
   "id": "37764fd3",
   "metadata": {},
   "source": [
    "Data Transformation:\n",
    "\n",
    "2. Perform cohort analysis (a cohort is a group of subjects that share a defining characteristic). Observe how a cohort behaves across time and compare it to other cohorts.\n",
    "\n",
    "a. Create month cohorts and analyze active customers for each cohort.\n",
    "\n",
    "b. Analyze the retention rate of customers."
   ]
  },
  {
   "cell_type": "markdown",
   "id": "82a2112b",
   "metadata": {},
   "source": [
    "<h5>Uniques Values</h5>"
   ]
  },
  {
   "cell_type": "code",
   "execution_count": 24,
   "id": "6b408754",
   "metadata": {},
   "outputs": [
    {
     "name": "stdout",
     "output_type": "stream",
     "text": [
      "\u001b[1m\u001b[94m\n",
      "The countries being served are as follows \n",
      "\n",
      "\t\u001b[0m['United Kingdom' 'France' 'Australia' 'Netherlands' 'Germany' 'Norway'\n",
      " 'EIRE' 'Switzerland' 'Spain' 'Poland' 'Portugal' 'Italy' 'Belgium'\n",
      " 'Lithuania' 'Japan' 'Iceland' 'Channel Islands' 'Denmark' 'Cyprus'\n",
      " 'Sweden' 'Finland' 'Austria' 'Greece' 'Singapore' 'Lebanon'\n",
      " 'United Arab Emirates' 'Israel' 'Saudi Arabia' 'Czech Republic' 'Canada'\n",
      " 'Unspecified' 'Brazil' 'USA' 'European Community' 'Bahrain' 'Malta' 'RSA']\n"
     ]
    }
   ],
   "source": [
    "print(color.BOLD +\n",
    "      color.BLUE +\n",
    "      '\\nThe countries being served are as follows \\n\\n\\t' +\n",
    "      color.END +\n",
    "      '{}'.\n",
    "      format(retailData3['Country'].unique()))"
   ]
  },
  {
   "cell_type": "code",
   "execution_count": 25,
   "id": "33ad4667",
   "metadata": {},
   "outputs": [
    {
     "name": "stdout",
     "output_type": "stream",
     "text": [
      "\u001b[1m\u001b[94m\n",
      "The no. of unique countries are as follows \n",
      "\n",
      "\t\u001b[0m37\n"
     ]
    }
   ],
   "source": [
    "print(color.BOLD +\n",
    "      color.BLUE +\n",
    "      '\\nThe no. of unique countries are as follows \\n\\n\\t' +\n",
    "      color.END +\n",
    "      '{}'.\n",
    "      format(retailData3['Country'].nunique()))"
   ]
  },
  {
   "cell_type": "code",
   "execution_count": 26,
   "id": "ef5eaf3f",
   "metadata": {},
   "outputs": [
    {
     "name": "stdout",
     "output_type": "stream",
     "text": [
      "\u001b[1m\u001b[94mThe no. of Uniquie Categories per Dimension in descending order are as follows: \n",
      "\n",
      "\u001b[0mInvoiceNo      18536\n",
      "InvoiceDate    17286\n",
      "CustomerID      4339\n",
      "Description     3877\n",
      "StockCode       3665\n",
      "Revenue         2940\n",
      "UnitPrice        441\n",
      "Quantity         302\n",
      "Country           37\n",
      "dtype: int64\n"
     ]
    }
   ],
   "source": [
    "print(color.BOLD +\n",
    "      color.BLUE +\n",
    "      'The no. of Uniquie Categories per Dimension in descending order are as follows: \\n\\n' +\n",
    "      color.END +\n",
    "      '{}'.\n",
    "      format(retailData3.nunique().sort_values(ascending=False)))"
   ]
  },
  {
   "cell_type": "markdown",
   "id": "ca871b38",
   "metadata": {},
   "source": [
    "Analysis of Sales by Country"
   ]
  },
  {
   "cell_type": "code",
   "execution_count": 27,
   "id": "9da456a2",
   "metadata": {},
   "outputs": [
    {
     "name": "stdout",
     "output_type": "stream",
     "text": [
      "\u001b[1m\u001b[94mThe number of products sold by country are as follows. \n",
      "\n",
      "\u001b[0mCountry\n",
      "United Kingdom          349227\n",
      "Germany                   9027\n",
      "France                    8327\n",
      "EIRE                      7228\n",
      "Spain                     2480\n",
      "Netherlands               2363\n",
      "Belgium                   2031\n",
      "Switzerland               1842\n",
      "Portugal                  1453\n",
      "Australia                 1184\n",
      "Norway                    1072\n",
      "Italy                      758\n",
      "Channel Islands            747\n",
      "Finland                    685\n",
      "Cyprus                     603\n",
      "Sweden                     450\n",
      "Austria                    398\n",
      "Denmark                    380\n",
      "Poland                     330\n",
      "Japan                      321\n",
      "Israel                     245\n",
      "Unspecified                241\n",
      "Singapore                  222\n",
      "Iceland                    182\n",
      "USA                        179\n",
      "Canada                     151\n",
      "Greece                     145\n",
      "Malta                      112\n",
      "United Arab Emirates        68\n",
      "European Community          60\n",
      "RSA                         58\n",
      "Lebanon                     45\n",
      "Lithuania                   35\n",
      "Brazil                      32\n",
      "Czech Republic              25\n",
      "Bahrain                     17\n",
      "Saudi Arabia                 9\n",
      "dtype: int64\n"
     ]
    }
   ],
   "source": [
    "print(color.BOLD +\n",
    "      color.BLUE +\n",
    "      'The number of products sold by country are as follows. \\n\\n' +\n",
    "      color.END +\n",
    "      '{}'.\n",
    "      format(retailData3.\n",
    "             groupby(['Country']).\n",
    "             size().\n",
    "             sort_values(ascending=False)))"
   ]
  },
  {
   "cell_type": "markdown",
   "id": "f09c41ab",
   "metadata": {},
   "source": [
    "<h5>Comparison of the top 5 countries</h5>"
   ]
  },
  {
   "cell_type": "code",
   "execution_count": 28,
   "id": "de9d0eee",
   "metadata": {},
   "outputs": [
    {
     "name": "stdout",
     "output_type": "stream",
     "text": [
      "\u001b[1m\u001b[94m\n",
      "The maximum transactions for top 5 countries based on number of products is as follows:\n",
      "\n",
      "\u001b[0mCountry\n",
      "United Kingdom    349227\n",
      "Germany             9027\n",
      "France              8327\n",
      "EIRE                7228\n",
      "Spain               2480\n",
      "dtype: int64\n"
     ]
    }
   ],
   "source": [
    "print(color.BOLD +\n",
    "      color.BLUE +\n",
    "      '\\nThe maximum transactions for top 5 countries based on number of products is as follows:\\n\\n' +\n",
    "      color.END +\n",
    "      '{}'.\n",
    "      format(retailData3.groupby(['Country']).size().nlargest(5)))"
   ]
  },
  {
   "cell_type": "code",
   "execution_count": 29,
   "id": "77925d18",
   "metadata": {},
   "outputs": [
    {
     "data": {
      "image/png": "[encoded data removed]",
      "text/plain": [
       "<Figure size 1152x648 with 1 Axes>"
      ]
     },
     "metadata": {},
     "output_type": "display_data"
    }
   ],
   "source": [
    "plt.figure(figsize=(16,9))\n",
    "retailData3.Country.value_counts().nlargest(5).plot(kind='bar')\n",
    "plt.xlabel(\"Country\",\n",
    "          fontsize = 16)\n",
    "plt.ylabel(\"Products Sold\",\n",
    "          fontsize = 16)\n",
    "plt.title('Country-wise Sales Analysis',\n",
    "          fontsize = 20)\n",
    "plt.show()"
   ]
  },
  {
   "cell_type": "markdown",
   "id": "08dccdfc",
   "metadata": {},
   "source": [
    "Analysis of Revenue and Quantity by Country for the top 5 countries"
   ]
  },
  {
   "cell_type": "code",
   "execution_count": 30,
   "id": "98b96a2a",
   "metadata": {},
   "outputs": [
    {
     "name": "stdout",
     "output_type": "stream",
     "text": [
      "\u001b[1m\u001b[94m\n",
      "The country wise revenue for the top 5 countries is as follows.\n",
      "\n",
      "\u001b[0mCountry\n",
      "United Kingdom    7.285025e+06\n",
      "Netherlands       2.854463e+05\n",
      "EIRE              2.652625e+05\n",
      "Germany           2.286784e+05\n",
      "France            2.089343e+05\n",
      "Name: Revenue, dtype: float64\n",
      "\n"
     ]
    }
   ],
   "source": [
    "print(color.BOLD +\n",
    "      color.BLUE +\n",
    "      '\\nThe country wise revenue for the top 5 countries is as follows.\\n\\n' +\n",
    "      color.END +\n",
    "      '{}\\n'.\n",
    "      format(retailData3.groupby('Country')['Revenue'].sum().nlargest(5)))"
   ]
  },
  {
   "cell_type": "code",
   "execution_count": 31,
   "id": "131d6717",
   "metadata": {},
   "outputs": [
    {
     "data": {
      "image/png": "[encoded data removed]",
      "text/plain": [
       "<Figure size 1152x648 with 1 Axes>"
      ]
     },
     "metadata": {},
     "output_type": "display_data"
    }
   ],
   "source": [
    "plt.figure(figsize=(16,9))\n",
    "retailData3.groupby('Country')['Revenue'].sum().nlargest(5).plot(kind='bar')\n",
    "plt.xlabel(\"Country\",\n",
    "          fontsize = 16)\n",
    "plt.ylabel(\"Revenue\",\n",
    "          fontsize = 16)\n",
    "plt.title('Country-wise Revenue Analysis',\n",
    "          fontsize = 20)\n",
    "plt.show()"
   ]
  },
  {
   "cell_type": "code",
   "execution_count": 32,
   "id": "ddf23d09",
   "metadata": {},
   "outputs": [
    {
     "name": "stdout",
     "output_type": "stream",
     "text": [
      "\u001b[1m\u001b[94m\n",
      "The country wise quantity for the top 5 countries is as follows.\n",
      "\n",
      "\u001b[0mCountry\n",
      "United Kingdom    4254037\n",
      "Netherlands        200937\n",
      "EIRE               140383\n",
      "Germany            119156\n",
      "France             111429\n",
      "Name: Quantity, dtype: int64\n",
      "\n"
     ]
    }
   ],
   "source": [
    "print(color.BOLD +\n",
    "      color.BLUE +\n",
    "      '\\nThe country wise quantity for the top 5 countries is as follows.\\n\\n' +\n",
    "      color.END +\n",
    "      '{}\\n'.\n",
    "      format(retailData3.groupby('Country').sum()['Quantity'].nlargest(5)))"
   ]
  },
  {
   "cell_type": "code",
   "execution_count": 33,
   "id": "cfda2c43",
   "metadata": {},
   "outputs": [
    {
     "data": {
      "image/png": "[encoded data removed]",
      "text/plain": [
       "<Figure size 1152x648 with 1 Axes>"
      ]
     },
     "metadata": {},
     "output_type": "display_data"
    }
   ],
   "source": [
    "plt.figure(figsize=(16,9))\n",
    "retailData3.groupby('Country').sum()['Quantity'].nlargest(5).plot(kind='bar')\n",
    "plt.xlabel(\"Country\",\n",
    "          fontsize = 16)\n",
    "plt.ylabel(\"Sales Volume\",\n",
    "          fontsize = 16)\n",
    "plt.title('Country-wise Sales Volume Analysis',\n",
    "          fontsize = 20)\n",
    "plt.show()"
   ]
  },
  {
   "cell_type": "markdown",
   "id": "010ca566",
   "metadata": {},
   "source": [
    "Analysis of Revenue and Quantity Purchased by Produce Description of top 5 products"
   ]
  },
  {
   "cell_type": "code",
   "execution_count": 34,
   "id": "31a61c32",
   "metadata": {},
   "outputs": [
    {
     "name": "stdout",
     "output_type": "stream",
     "text": [
      "\u001b[1m\u001b[94m\n",
      "The revenue for the top 5 product descriptions is as follows.\n",
      "\n",
      "\u001b[0mDescription\n",
      "PAPER CRAFT , LITTLE BIRDIE           168469.60\n",
      "REGENCY CAKESTAND 3 TIER              142264.75\n",
      "WHITE HANGING HEART T-LIGHT HOLDER    100392.10\n",
      "JUMBO BAG RED RETROSPOT                85040.54\n",
      "MEDIUM CERAMIC TOP STORAGE JAR         81416.73\n",
      "Name: Revenue, dtype: float64\n",
      "\n"
     ]
    }
   ],
   "source": [
    "print(color.BOLD +\n",
    "      color.BLUE +\n",
    "      '\\nThe revenue for the top 5 product descriptions is as follows.\\n\\n' +\n",
    "      color.END +\n",
    "      '{}\\n'.\n",
    "      format(retailData3.groupby('Description').sum()['Revenue'].nlargest(5)))"
   ]
  },
  {
   "cell_type": "code",
   "execution_count": 35,
   "id": "3f97df44",
   "metadata": {},
   "outputs": [
    {
     "data": {
      "image/png": "[encoded data removed]",
      "text/plain": [
       "<Figure size 1152x648 with 1 Axes>"
      ]
     },
     "metadata": {},
     "output_type": "display_data"
    }
   ],
   "source": [
    "plt.figure(figsize=(16,9))\n",
    "retailData3.groupby('Description').sum()['Revenue'].nlargest(5).plot(kind='bar')\n",
    "plt.xlabel(\"Product\",\n",
    "          fontsize = 16)\n",
    "plt.ylabel(\"Revenue\",\n",
    "          fontsize = 16)\n",
    "plt.title('Product-wise Revenue Analysis',\n",
    "          fontsize = 20)\n",
    "plt.show()"
   ]
  },
  {
   "cell_type": "code",
   "execution_count": 36,
   "id": "72b216a1",
   "metadata": {},
   "outputs": [
    {
     "name": "stdout",
     "output_type": "stream",
     "text": [
      "\u001b[1m\u001b[94m\n",
      "The quantity for the top 5 product descriptions is as follows.\n",
      "\n",
      "\u001b[0mDescription\n",
      "PAPER CRAFT , LITTLE BIRDIE           80995\n",
      "MEDIUM CERAMIC TOP STORAGE JAR        77916\n",
      "WORLD WAR 2 GLIDERS ASSTD DESIGNS     54319\n",
      "JUMBO BAG RED RETROSPOT               46078\n",
      "WHITE HANGING HEART T-LIGHT HOLDER    36706\n",
      "Name: Quantity, dtype: int64\n",
      "\n"
     ]
    }
   ],
   "source": [
    "print(color.BOLD +\n",
    "      color.BLUE +\n",
    "      '\\nThe quantity for the top 5 product descriptions is as follows.\\n\\n' +\n",
    "      color.END +\n",
    "      '{}\\n'.\n",
    "      format(retailData3.groupby('Description').sum()['Quantity'].nlargest(5)))"
   ]
  },
  {
   "cell_type": "code",
   "execution_count": 37,
   "id": "a310eed1",
   "metadata": {},
   "outputs": [
    {
     "data": {
      "image/png": "[encoded data removed]",
      "text/plain": [
       "<Figure size 1152x648 with 1 Axes>"
      ]
     },
     "metadata": {},
     "output_type": "display_data"
    }
   ],
   "source": [
    "plt.figure(figsize=(16,9))\n",
    "retailData3.groupby('Description').sum()['Quantity'].nlargest(5).plot(kind='bar')\n",
    "plt.xlabel(\"Product\",\n",
    "          fontsize = 16)\n",
    "plt.ylabel(\"Procut Volume\",\n",
    "          fontsize = 16)\n",
    "plt.title('Product-wise Volume Analysis',\n",
    "          fontsize = 20)\n",
    "plt.show()"
   ]
  },
  {
   "cell_type": "markdown",
   "id": "b332f435",
   "metadata": {},
   "source": [
    "<h5>Analysis of Data by segmenting it into Months.</h5>"
   ]
  },
  {
   "cell_type": "code",
   "execution_count": 38,
   "id": "a82fe81b",
   "metadata": {},
   "outputs": [
    {
     "name": "stdout",
     "output_type": "stream",
     "text": [
      "\u001b[94m\u001b[1m\n",
      "The retailData3 with Transaction Month added as a column by removing the time is as follows.\u001b[0m\n"
     ]
    },
    {
     "data": {
      "text/html": [
       "<div>\n",
       "<style scoped>\n",
       "    .dataframe tbody tr th:only-of-type {\n",
       "        vertical-align: middle;\n",
       "    }\n",
       "\n",
       "    .dataframe tbody tr th {\n",
       "        vertical-align: top;\n",
       "    }\n",
       "\n",
       "    .dataframe thead th {\n",
       "        text-align: right;\n",
       "    }\n",
       "</style>\n",
       "<table border=\"1\" class=\"dataframe\">\n",
       "  <thead>\n",
       "    <tr style=\"text-align: right;\">\n",
       "      <th></th>\n",
       "      <th>InvoiceNo</th>\n",
       "      <th>StockCode</th>\n",
       "      <th>Description</th>\n",
       "      <th>Quantity</th>\n",
       "      <th>InvoiceDate</th>\n",
       "      <th>UnitPrice</th>\n",
       "      <th>CustomerID</th>\n",
       "      <th>Country</th>\n",
       "      <th>Revenue</th>\n",
       "      <th>TransactionMonth</th>\n",
       "    </tr>\n",
       "  </thead>\n",
       "  <tbody>\n",
       "    <tr>\n",
       "      <th>0</th>\n",
       "      <td>536365</td>\n",
       "      <td>85123A</td>\n",
       "      <td>WHITE HANGING HEART T-LIGHT HOLDER</td>\n",
       "      <td>6</td>\n",
       "      <td>2010-12-01 08:26:00</td>\n",
       "      <td>2.55</td>\n",
       "      <td>17850.0</td>\n",
       "      <td>United Kingdom</td>\n",
       "      <td>15.30</td>\n",
       "      <td>2010-12-01</td>\n",
       "    </tr>\n",
       "    <tr>\n",
       "      <th>1</th>\n",
       "      <td>536365</td>\n",
       "      <td>71053</td>\n",
       "      <td>WHITE METAL LANTERN</td>\n",
       "      <td>6</td>\n",
       "      <td>2010-12-01 08:26:00</td>\n",
       "      <td>3.39</td>\n",
       "      <td>17850.0</td>\n",
       "      <td>United Kingdom</td>\n",
       "      <td>20.34</td>\n",
       "      <td>2010-12-01</td>\n",
       "    </tr>\n",
       "    <tr>\n",
       "      <th>2</th>\n",
       "      <td>536365</td>\n",
       "      <td>84406B</td>\n",
       "      <td>CREAM CUPID HEARTS COAT HANGER</td>\n",
       "      <td>8</td>\n",
       "      <td>2010-12-01 08:26:00</td>\n",
       "      <td>2.75</td>\n",
       "      <td>17850.0</td>\n",
       "      <td>United Kingdom</td>\n",
       "      <td>22.00</td>\n",
       "      <td>2010-12-01</td>\n",
       "    </tr>\n",
       "    <tr>\n",
       "      <th>3</th>\n",
       "      <td>536365</td>\n",
       "      <td>84029G</td>\n",
       "      <td>KNITTED UNION FLAG HOT WATER BOTTLE</td>\n",
       "      <td>6</td>\n",
       "      <td>2010-12-01 08:26:00</td>\n",
       "      <td>3.39</td>\n",
       "      <td>17850.0</td>\n",
       "      <td>United Kingdom</td>\n",
       "      <td>20.34</td>\n",
       "      <td>2010-12-01</td>\n",
       "    </tr>\n",
       "    <tr>\n",
       "      <th>4</th>\n",
       "      <td>536365</td>\n",
       "      <td>84029E</td>\n",
       "      <td>RED WOOLLY HOTTIE WHITE HEART.</td>\n",
       "      <td>6</td>\n",
       "      <td>2010-12-01 08:26:00</td>\n",
       "      <td>3.39</td>\n",
       "      <td>17850.0</td>\n",
       "      <td>United Kingdom</td>\n",
       "      <td>20.34</td>\n",
       "      <td>2010-12-01</td>\n",
       "    </tr>\n",
       "  </tbody>\n",
       "</table>\n",
       "</div>"
      ],
      "text/plain": [
       "  InvoiceNo StockCode                          Description  Quantity  \\\n",
       "0    536365    85123A   WHITE HANGING HEART T-LIGHT HOLDER         6   \n",
       "1    536365     71053                  WHITE METAL LANTERN         6   \n",
       "2    536365    84406B       CREAM CUPID HEARTS COAT HANGER         8   \n",
       "3    536365    84029G  KNITTED UNION FLAG HOT WATER BOTTLE         6   \n",
       "4    536365    84029E       RED WOOLLY HOTTIE WHITE HEART.         6   \n",
       "\n",
       "          InvoiceDate  UnitPrice CustomerID         Country  Revenue  \\\n",
       "0 2010-12-01 08:26:00       2.55    17850.0  United Kingdom    15.30   \n",
       "1 2010-12-01 08:26:00       3.39    17850.0  United Kingdom    20.34   \n",
       "2 2010-12-01 08:26:00       2.75    17850.0  United Kingdom    22.00   \n",
       "3 2010-12-01 08:26:00       3.39    17850.0  United Kingdom    20.34   \n",
       "4 2010-12-01 08:26:00       3.39    17850.0  United Kingdom    20.34   \n",
       "\n",
       "  TransactionMonth  \n",
       "0       2010-12-01  \n",
       "1       2010-12-01  \n",
       "2       2010-12-01  \n",
       "3       2010-12-01  \n",
       "4       2010-12-01  "
      ]
     },
     "execution_count": 38,
     "metadata": {},
     "output_type": "execute_result"
    }
   ],
   "source": [
    "def get_month(x): return dt.datetime(x.year, x.month, 1)\n",
    "\n",
    "retailData3['TransactionMonth'] = retailData3['InvoiceDate'].apply(get_month)\n",
    "print(color.BLUE +\n",
    "      color.BOLD +\n",
    "      '\\nThe retailData3 with Transaction Month added as a column by removing the time is as follows.' +\n",
    "     color.END)\n",
    "retailData3.head()"
   ]
  },
  {
   "cell_type": "code",
   "execution_count": 39,
   "id": "9bed4b69",
   "metadata": {},
   "outputs": [
    {
     "name": "stdout",
     "output_type": "stream",
     "text": [
      "\u001b[1m\u001b[94m\n",
      "The number of Unique Month Year Combination in retailData are as follows.\n",
      "\n",
      "\t\u001b[0m13\n",
      "\n"
     ]
    }
   ],
   "source": [
    "print(color.BOLD +\n",
    "      color.BLUE +\n",
    "      '\\nThe number of Unique Month Year Combination in retailData are as follows.\\n\\n\\t' +\n",
    "      color.END +\n",
    "      '{}\\n'.\n",
    "      format(retailData3['TransactionMonth'].nunique()))"
   ]
  },
  {
   "cell_type": "code",
   "execution_count": 40,
   "id": "8d63d847",
   "metadata": {},
   "outputs": [
    {
     "name": "stdout",
     "output_type": "stream",
     "text": [
      "\u001b[94m\u001b[1m\n",
      "The retailData with Transaction Month and Year combination added as a column is as follows.\u001b[0m\n"
     ]
    },
    {
     "data": {
      "text/html": [
       "<div>\n",
       "<style scoped>\n",
       "    .dataframe tbody tr th:only-of-type {\n",
       "        vertical-align: middle;\n",
       "    }\n",
       "\n",
       "    .dataframe tbody tr th {\n",
       "        vertical-align: top;\n",
       "    }\n",
       "\n",
       "    .dataframe thead th {\n",
       "        text-align: right;\n",
       "    }\n",
       "</style>\n",
       "<table border=\"1\" class=\"dataframe\">\n",
       "  <thead>\n",
       "    <tr style=\"text-align: right;\">\n",
       "      <th></th>\n",
       "      <th>InvoiceNo</th>\n",
       "      <th>StockCode</th>\n",
       "      <th>Description</th>\n",
       "      <th>Quantity</th>\n",
       "      <th>InvoiceDate</th>\n",
       "      <th>UnitPrice</th>\n",
       "      <th>CustomerID</th>\n",
       "      <th>Country</th>\n",
       "      <th>Revenue</th>\n",
       "      <th>TransactionMonth</th>\n",
       "      <th>TransactionMonth1</th>\n",
       "    </tr>\n",
       "  </thead>\n",
       "  <tbody>\n",
       "    <tr>\n",
       "      <th>0</th>\n",
       "      <td>536365</td>\n",
       "      <td>85123A</td>\n",
       "      <td>WHITE HANGING HEART T-LIGHT HOLDER</td>\n",
       "      <td>6</td>\n",
       "      <td>2010-12-01 08:26:00</td>\n",
       "      <td>2.55</td>\n",
       "      <td>17850.0</td>\n",
       "      <td>United Kingdom</td>\n",
       "      <td>15.30</td>\n",
       "      <td>2010-12-01</td>\n",
       "      <td>2010-Dec</td>\n",
       "    </tr>\n",
       "    <tr>\n",
       "      <th>1</th>\n",
       "      <td>536365</td>\n",
       "      <td>71053</td>\n",
       "      <td>WHITE METAL LANTERN</td>\n",
       "      <td>6</td>\n",
       "      <td>2010-12-01 08:26:00</td>\n",
       "      <td>3.39</td>\n",
       "      <td>17850.0</td>\n",
       "      <td>United Kingdom</td>\n",
       "      <td>20.34</td>\n",
       "      <td>2010-12-01</td>\n",
       "      <td>2010-Dec</td>\n",
       "    </tr>\n",
       "    <tr>\n",
       "      <th>2</th>\n",
       "      <td>536365</td>\n",
       "      <td>84406B</td>\n",
       "      <td>CREAM CUPID HEARTS COAT HANGER</td>\n",
       "      <td>8</td>\n",
       "      <td>2010-12-01 08:26:00</td>\n",
       "      <td>2.75</td>\n",
       "      <td>17850.0</td>\n",
       "      <td>United Kingdom</td>\n",
       "      <td>22.00</td>\n",
       "      <td>2010-12-01</td>\n",
       "      <td>2010-Dec</td>\n",
       "    </tr>\n",
       "    <tr>\n",
       "      <th>3</th>\n",
       "      <td>536365</td>\n",
       "      <td>84029G</td>\n",
       "      <td>KNITTED UNION FLAG HOT WATER BOTTLE</td>\n",
       "      <td>6</td>\n",
       "      <td>2010-12-01 08:26:00</td>\n",
       "      <td>3.39</td>\n",
       "      <td>17850.0</td>\n",
       "      <td>United Kingdom</td>\n",
       "      <td>20.34</td>\n",
       "      <td>2010-12-01</td>\n",
       "      <td>2010-Dec</td>\n",
       "    </tr>\n",
       "    <tr>\n",
       "      <th>4</th>\n",
       "      <td>536365</td>\n",
       "      <td>84029E</td>\n",
       "      <td>RED WOOLLY HOTTIE WHITE HEART.</td>\n",
       "      <td>6</td>\n",
       "      <td>2010-12-01 08:26:00</td>\n",
       "      <td>3.39</td>\n",
       "      <td>17850.0</td>\n",
       "      <td>United Kingdom</td>\n",
       "      <td>20.34</td>\n",
       "      <td>2010-12-01</td>\n",
       "      <td>2010-Dec</td>\n",
       "    </tr>\n",
       "  </tbody>\n",
       "</table>\n",
       "</div>"
      ],
      "text/plain": [
       "  InvoiceNo StockCode                          Description  Quantity  \\\n",
       "0    536365    85123A   WHITE HANGING HEART T-LIGHT HOLDER         6   \n",
       "1    536365     71053                  WHITE METAL LANTERN         6   \n",
       "2    536365    84406B       CREAM CUPID HEARTS COAT HANGER         8   \n",
       "3    536365    84029G  KNITTED UNION FLAG HOT WATER BOTTLE         6   \n",
       "4    536365    84029E       RED WOOLLY HOTTIE WHITE HEART.         6   \n",
       "\n",
       "          InvoiceDate  UnitPrice CustomerID         Country  Revenue  \\\n",
       "0 2010-12-01 08:26:00       2.55    17850.0  United Kingdom    15.30   \n",
       "1 2010-12-01 08:26:00       3.39    17850.0  United Kingdom    20.34   \n",
       "2 2010-12-01 08:26:00       2.75    17850.0  United Kingdom    22.00   \n",
       "3 2010-12-01 08:26:00       3.39    17850.0  United Kingdom    20.34   \n",
       "4 2010-12-01 08:26:00       3.39    17850.0  United Kingdom    20.34   \n",
       "\n",
       "  TransactionMonth TransactionMonth1  \n",
       "0       2010-12-01          2010-Dec  \n",
       "1       2010-12-01          2010-Dec  \n",
       "2       2010-12-01          2010-Dec  \n",
       "3       2010-12-01          2010-Dec  \n",
       "4       2010-12-01          2010-Dec  "
      ]
     },
     "execution_count": 40,
     "metadata": {},
     "output_type": "execute_result"
    }
   ],
   "source": [
    "retailData3['TransactionMonth1'] = pd.DatetimeIndex(retailData3['InvoiceDate']).strftime('%Y-%b')\n",
    "print(color.BLUE +\n",
    "      color.BOLD +\n",
    "      '\\nThe retailData with Transaction Month and Year combination added as a column is as follows.' +\n",
    "     color.END)\n",
    "retailData3.head()"
   ]
  },
  {
   "cell_type": "code",
   "execution_count": 41,
   "id": "2297707c",
   "metadata": {},
   "outputs": [
    {
     "name": "stdout",
     "output_type": "stream",
     "text": [
      "\u001b[1m\u001b[94m\n",
      "The groupby result for Transaction Month and Year in retailData3 are as follows.\n",
      "\n",
      "\t\u001b[0mTransactionMonth1\n",
      "2011-Nov    63182\n",
      "2011-Oct    48796\n",
      "2011-Sep    39671\n",
      "2011-May    28075\n",
      "2011-Jun    26926\n",
      "2011-Mar    26872\n",
      "2011-Aug    26796\n",
      "2011-Jul    26582\n",
      "2010-Dec    25673\n",
      "2011-Apr    22435\n",
      "2011-Jan    20991\n",
      "2011-Feb    19707\n",
      "2011-Dec    17026\n",
      "dtype: int64\n",
      "\n"
     ]
    }
   ],
   "source": [
    "print(color.BOLD +\n",
    "      color.BLUE +\n",
    "      '\\nThe groupby result for Transaction Month and Year in retailData3 are as follows.\\n\\n\\t' +\n",
    "      color.END +\n",
    "      '{}\\n'.\n",
    "      format(retailData3.groupby('TransactionMonth1').size().sort_values(ascending=False)))"
   ]
  },
  {
   "cell_type": "code",
   "execution_count": 42,
   "id": "a473dcc5",
   "metadata": {},
   "outputs": [
    {
     "name": "stdout",
     "output_type": "stream",
     "text": [
      "\u001b[1m\u001b[94m\n",
      "The max sales were achieved in the month of \n",
      "\n",
      "\t\u001b[0mTransactionMonth1\n",
      "2011-Nov    63182\n",
      "dtype: int64\n",
      "\n"
     ]
    }
   ],
   "source": [
    "print(color.BOLD +\n",
    "      color.BLUE +\n",
    "      '\\nThe max sales were achieved in the month of \\n\\n\\t'+\n",
    "      color.END +\n",
    "      '{}\\n'.\n",
    "      format(retailData3.groupby('TransactionMonth1').size().sort_values(ascending=False).nlargest(1)))"
   ]
  },
  {
   "cell_type": "markdown",
   "id": "d7edf09e",
   "metadata": {},
   "source": [
    "<h3>retailData4</h3>\n",
    "\n",
    "Removing the incomplete month and assigning it as retailData4 which considers only Full Months"
   ]
  },
  {
   "cell_type": "code",
   "execution_count": 43,
   "id": "0de802fe",
   "metadata": {},
   "outputs": [],
   "source": [
    "retailData4 = retailData3[~(retailData3['InvoiceDate'] > '2011-12-01')]"
   ]
  },
  {
   "cell_type": "code",
   "execution_count": 44,
   "id": "745b9726",
   "metadata": {},
   "outputs": [
    {
     "name": "stdout",
     "output_type": "stream",
     "text": [
      "\u001b[1m\u001b[94m\n",
      "The Month Year combinations for the full months are as follows.\n",
      "\n",
      "\u001b[0mTransactionMonth1\n",
      "2011-Nov    63182\n",
      "2011-Oct    48796\n",
      "2011-Sep    39671\n",
      "2011-May    28075\n",
      "2011-Jun    26926\n",
      "2011-Mar    26872\n",
      "2011-Aug    26796\n",
      "2011-Jul    26582\n",
      "2010-Dec    25673\n",
      "2011-Apr    22435\n",
      "2011-Jan    20991\n",
      "2011-Feb    19707\n",
      "dtype: int64\n",
      "\n"
     ]
    }
   ],
   "source": [
    "print(color.BOLD +\n",
    "      color.BLUE +\n",
    "      '\\nThe Month Year combinations for the full months are as follows.\\n\\n' +\n",
    "      color.END +\n",
    "      '{}\\n'.\n",
    "      format(retailData4.groupby('TransactionMonth1').size().sort_values(ascending=False)))"
   ]
  },
  {
   "cell_type": "code",
   "execution_count": 45,
   "id": "35363527",
   "metadata": {},
   "outputs": [
    {
     "name": "stdout",
     "output_type": "stream",
     "text": [
      "\u001b[1m\u001b[94m\n",
      "The number of Unique Month Year Combination in retailData4 are as follows.\n",
      "\n",
      "\t\u001b[0m12\n",
      "\n"
     ]
    }
   ],
   "source": [
    "print(color.BOLD +\n",
    "      color.BLUE +\n",
    "      '\\nThe number of Unique Month Year Combination in retailData4 are as follows.\\n\\n\\t' +\n",
    "      color.END +\n",
    "      '{}\\n'.\n",
    "      format(retailData4['TransactionMonth1'].nunique()))"
   ]
  },
  {
   "cell_type": "code",
   "execution_count": 46,
   "id": "73e2aaf4",
   "metadata": {},
   "outputs": [
    {
     "name": "stdout",
     "output_type": "stream",
     "text": [
      "\u001b[1m\u001b[94m\n",
      "The maximum sales per month are in the month starting 2011-11-01 and equal \n",
      "\n",
      "\t\u001b[0m63182\n",
      "\n"
     ]
    }
   ],
   "source": [
    "print(color.BOLD +\n",
    "      color.BLUE +\n",
    "      '\\nThe maximum sales per month are in the month starting 2011-11-01 and equal \\n\\n\\t' +\n",
    "      color.END +\n",
    "      '{}\\n'.\n",
    "      format(retailData4.groupby('TransactionMonth').size().max()))"
   ]
  },
  {
   "cell_type": "code",
   "execution_count": 47,
   "id": "fe095b6c",
   "metadata": {},
   "outputs": [
    {
     "data": {
      "image/png": "[encoded data removed]",
      "text/plain": [
       "<Figure size 1152x648 with 1 Axes>"
      ]
     },
     "metadata": {},
     "output_type": "display_data"
    }
   ],
   "source": [
    "plt.figure(figsize=(16,9))\n",
    "retailData4.TransactionMonth1.value_counts().plot(kind='bar',\n",
    "                                                  color='#007aff',\n",
    "                                                  fontsize = 14)\n",
    "\n",
    "plt.xlabel(\"Transaction Month\",\n",
    "          fontsize = 20)\n",
    "plt.ylabel(\"Products Sold\",\n",
    "          fontsize = 20)\n",
    "plt.title('Month-wise Sales Analysis',\n",
    "         fontsize = 24)\n",
    "plt.show()"
   ]
  },
  {
   "cell_type": "code",
   "execution_count": 48,
   "id": "c372bfe9",
   "metadata": {},
   "outputs": [
    {
     "name": "stdout",
     "output_type": "stream",
     "text": [
      "\u001b[1m\u001b[94m\n",
      "The month and year wise grouped data for the full months for Cohort Analysis is as follows \n",
      "\u001b[0m\n"
     ]
    },
    {
     "data": {
      "text/html": [
       "<div>\n",
       "<style scoped>\n",
       "    .dataframe tbody tr th:only-of-type {\n",
       "        vertical-align: middle;\n",
       "    }\n",
       "\n",
       "    .dataframe tbody tr th {\n",
       "        vertical-align: top;\n",
       "    }\n",
       "\n",
       "    .dataframe thead th {\n",
       "        text-align: right;\n",
       "    }\n",
       "</style>\n",
       "<table border=\"1\" class=\"dataframe\">\n",
       "  <thead>\n",
       "    <tr style=\"text-align: right;\">\n",
       "      <th></th>\n",
       "      <th>Country</th>\n",
       "      <th>CustomerID</th>\n",
       "      <th>Description</th>\n",
       "      <th>StockCode</th>\n",
       "      <th>Quantity</th>\n",
       "      <th>Revenue</th>\n",
       "    </tr>\n",
       "    <tr>\n",
       "      <th>TransactionMonth1</th>\n",
       "      <th></th>\n",
       "      <th></th>\n",
       "      <th></th>\n",
       "      <th></th>\n",
       "      <th></th>\n",
       "      <th></th>\n",
       "    </tr>\n",
       "  </thead>\n",
       "  <tbody>\n",
       "    <tr>\n",
       "      <th>2010-Dec</th>\n",
       "      <td>22</td>\n",
       "      <td>885</td>\n",
       "      <td>2418</td>\n",
       "      <td>2411</td>\n",
       "      <td>311063</td>\n",
       "      <td>570422.730</td>\n",
       "    </tr>\n",
       "    <tr>\n",
       "      <th>2011-Apr</th>\n",
       "      <td>24</td>\n",
       "      <td>856</td>\n",
       "      <td>2225</td>\n",
       "      <td>2217</td>\n",
       "      <td>291369</td>\n",
       "      <td>468374.331</td>\n",
       "    </tr>\n",
       "    <tr>\n",
       "      <th>2011-Aug</th>\n",
       "      <td>23</td>\n",
       "      <td>935</td>\n",
       "      <td>2386</td>\n",
       "      <td>2356</td>\n",
       "      <td>398190</td>\n",
       "      <td>644051.040</td>\n",
       "    </tr>\n",
       "    <tr>\n",
       "      <th>2011-Feb</th>\n",
       "      <td>24</td>\n",
       "      <td>758</td>\n",
       "      <td>2122</td>\n",
       "      <td>2124</td>\n",
       "      <td>265043</td>\n",
       "      <td>446084.920</td>\n",
       "    </tr>\n",
       "    <tr>\n",
       "      <th>2011-Jan</th>\n",
       "      <td>20</td>\n",
       "      <td>741</td>\n",
       "      <td>2118</td>\n",
       "      <td>2121</td>\n",
       "      <td>348522</td>\n",
       "      <td>568101.310</td>\n",
       "    </tr>\n",
       "    <tr>\n",
       "      <th>2011-Jul</th>\n",
       "      <td>24</td>\n",
       "      <td>949</td>\n",
       "      <td>2373</td>\n",
       "      <td>2351</td>\n",
       "      <td>367372</td>\n",
       "      <td>598962.901</td>\n",
       "    </tr>\n",
       "    <tr>\n",
       "      <th>2011-Jun</th>\n",
       "      <td>24</td>\n",
       "      <td>991</td>\n",
       "      <td>2361</td>\n",
       "      <td>2339</td>\n",
       "      <td>363014</td>\n",
       "      <td>660046.050</td>\n",
       "    </tr>\n",
       "    <tr>\n",
       "      <th>2011-Mar</th>\n",
       "      <td>22</td>\n",
       "      <td>974</td>\n",
       "      <td>2240</td>\n",
       "      <td>2234</td>\n",
       "      <td>347623</td>\n",
       "      <td>594081.760</td>\n",
       "    </tr>\n",
       "    <tr>\n",
       "      <th>2011-May</th>\n",
       "      <td>20</td>\n",
       "      <td>1056</td>\n",
       "      <td>2255</td>\n",
       "      <td>2219</td>\n",
       "      <td>372948</td>\n",
       "      <td>677355.150</td>\n",
       "    </tr>\n",
       "    <tr>\n",
       "      <th>2011-Nov</th>\n",
       "      <td>21</td>\n",
       "      <td>1665</td>\n",
       "      <td>2719</td>\n",
       "      <td>2695</td>\n",
       "      <td>678760</td>\n",
       "      <td>1156205.610</td>\n",
       "    </tr>\n",
       "    <tr>\n",
       "      <th>2011-Oct</th>\n",
       "      <td>25</td>\n",
       "      <td>1364</td>\n",
       "      <td>2681</td>\n",
       "      <td>2622</td>\n",
       "      <td>591551</td>\n",
       "      <td>1035642.450</td>\n",
       "    </tr>\n",
       "    <tr>\n",
       "      <th>2011-Sep</th>\n",
       "      <td>20</td>\n",
       "      <td>1266</td>\n",
       "      <td>2581</td>\n",
       "      <td>2545</td>\n",
       "      <td>543654</td>\n",
       "      <td>950690.202</td>\n",
       "    </tr>\n",
       "  </tbody>\n",
       "</table>\n",
       "</div>"
      ],
      "text/plain": [
       "                   Country  CustomerID  Description  StockCode  Quantity  \\\n",
       "TransactionMonth1                                                          \n",
       "2010-Dec                22         885         2418       2411    311063   \n",
       "2011-Apr                24         856         2225       2217    291369   \n",
       "2011-Aug                23         935         2386       2356    398190   \n",
       "2011-Feb                24         758         2122       2124    265043   \n",
       "2011-Jan                20         741         2118       2121    348522   \n",
       "2011-Jul                24         949         2373       2351    367372   \n",
       "2011-Jun                24         991         2361       2339    363014   \n",
       "2011-Mar                22         974         2240       2234    347623   \n",
       "2011-May                20        1056         2255       2219    372948   \n",
       "2011-Nov                21        1665         2719       2695    678760   \n",
       "2011-Oct                25        1364         2681       2622    591551   \n",
       "2011-Sep                20        1266         2581       2545    543654   \n",
       "\n",
       "                       Revenue  \n",
       "TransactionMonth1               \n",
       "2010-Dec            570422.730  \n",
       "2011-Apr            468374.331  \n",
       "2011-Aug            644051.040  \n",
       "2011-Feb            446084.920  \n",
       "2011-Jan            568101.310  \n",
       "2011-Jul            598962.901  \n",
       "2011-Jun            660046.050  \n",
       "2011-Mar            594081.760  \n",
       "2011-May            677355.150  \n",
       "2011-Nov           1156205.610  \n",
       "2011-Oct           1035642.450  \n",
       "2011-Sep            950690.202  "
      ]
     },
     "execution_count": 48,
     "metadata": {},
     "output_type": "execute_result"
    }
   ],
   "source": [
    "retailDataCohort = retailData4.groupby('TransactionMonth1').agg({'Country':pd.Series.nunique,\n",
    "                                              'CustomerID':pd.Series.nunique,\n",
    "                                              'Description':pd.Series.nunique,\n",
    "                                              'StockCode':pd.Series.nunique,\n",
    "                                              'Quantity':np.sum,\n",
    "                                              'Revenue':np.sum\n",
    "                                             })\n",
    "print(color.BOLD +\n",
    "      color.BLUE +\n",
    "      '\\nThe month and year wise grouped data for the full months for Cohort Analysis is as follows \\n' +\n",
    "      color.END)\n",
    "\n",
    "retailDataCohort"
   ]
  },
  {
   "cell_type": "code",
   "execution_count": 49,
   "id": "f3efcbc3",
   "metadata": {},
   "outputs": [
    {
     "name": "stdout",
     "output_type": "stream",
     "text": [
      "\u001b[94m\u001b[1m\n",
      "The cohort analysis based on grouping CustomerIDs over the month are as follows\n",
      "\n",
      "\u001b[0mTransactionMonth1\n",
      "2010-Dec     885\n",
      "2011-Apr     856\n",
      "2011-Aug     935\n",
      "2011-Feb     758\n",
      "2011-Jan     741\n",
      "2011-Jul     949\n",
      "2011-Jun     991\n",
      "2011-Mar     974\n",
      "2011-May    1056\n",
      "2011-Nov    1665\n",
      "2011-Oct    1364\n",
      "2011-Sep    1266\n",
      "Name: CustomerID, dtype: int64\n"
     ]
    }
   ],
   "source": [
    "retailDataCohortCustomerID = retailData4.groupby('TransactionMonth1')['CustomerID'].nunique()\n",
    "print(color.BLUE +\n",
    "      color.BOLD +\n",
    "      '\\nThe cohort analysis based on grouping CustomerIDs over the month are as follows\\n\\n' +\n",
    "      color.END +\n",
    "      '{}'.\n",
    "      format(retailDataCohortCustomerID))"
   ]
  },
  {
   "cell_type": "code",
   "execution_count": 50,
   "id": "dde1048d",
   "metadata": {},
   "outputs": [
    {
     "data": {
      "text/plain": [
       "Text(0, 0.5, 'Transaction Month and Year')"
      ]
     },
     "execution_count": 50,
     "metadata": {},
     "output_type": "execute_result"
    },
    {
     "data": {
      "image/png": "[encoded data removed]",
      "text/plain": [
       "<Figure size 864x576 with 1 Axes>"
      ]
     },
     "metadata": {},
     "output_type": "display_data"
    }
   ],
   "source": [
    "plt.figure(figsize=(12,8))\n",
    "sns.barplot(x = retailDataCohortCustomerID.values,\n",
    "            y = retailDataCohortCustomerID.index,\n",
    "            color='#007aff');\n",
    "plt.title(\"No. of active customers in each month\", fontsize = 20)\n",
    "plt.xlabel(\"Count of customers\", fontsize = 14)\n",
    "plt.ylabel(\"Transaction Month and Year\", fontsize = 14)"
   ]
  },
  {
   "cell_type": "code",
   "execution_count": 51,
   "id": "21b2e610",
   "metadata": {},
   "outputs": [
    {
     "name": "stdout",
     "output_type": "stream",
     "text": [
      "\u001b[1m\u001b[94m\n",
      "The cohort analysis based on grouping Country data over the month are as follows\n",
      "\n",
      "\u001b[0mTransactionMonth1\n",
      "2010-Dec    25673\n",
      "2011-Apr    22435\n",
      "2011-Aug    26796\n",
      "2011-Feb    19707\n",
      "2011-Jan    20991\n",
      "2011-Jul    26582\n",
      "2011-Jun    26926\n",
      "2011-Mar    26872\n",
      "2011-May    28075\n",
      "2011-Nov    63182\n",
      "2011-Oct    48796\n",
      "2011-Sep    39671\n",
      "Name: Country, dtype: int64\n",
      "\n"
     ]
    }
   ],
   "source": [
    "retailDataCohortCountry = retailData4.groupby('TransactionMonth1')['Country'].size()\n",
    "print(color.BOLD +\n",
    "      color.BLUE +\n",
    "      '\\nThe cohort analysis based on grouping Country data over the month are as follows\\n\\n' +\n",
    "      color.END +\n",
    "      '{}\\n'.\n",
    "      format(retailDataCohortCountry))"
   ]
  },
  {
   "cell_type": "code",
   "execution_count": 52,
   "id": "4a3c48ca",
   "metadata": {},
   "outputs": [
    {
     "data": {
      "text/plain": [
       "Text(0, 0.5, 'Transaction Month and Year')"
      ]
     },
     "execution_count": 52,
     "metadata": {},
     "output_type": "execute_result"
    },
    {
     "data": {
      "image/png": "[encoded data removed]",
      "text/plain": [
       "<Figure size 864x576 with 1 Axes>"
      ]
     },
     "metadata": {},
     "output_type": "display_data"
    }
   ],
   "source": [
    "plt.figure(figsize=(12,8))\n",
    "sns.barplot(x = retailDataCohortCountry.values,\n",
    "            y = retailDataCohortCountry.index,\n",
    "            color='#007aff'\n",
    "           );\n",
    "plt.xlabel(\"Count of Size by Country\", fontsize = 14)\n",
    "plt.ylabel(\"Transaction Month and Year\", fontsize = 14)"
   ]
  },
  {
   "cell_type": "markdown",
   "id": "612ef6a9",
   "metadata": {},
   "source": [
    "***Retention of Customers***"
   ]
  },
  {
   "cell_type": "markdown",
   "id": "2a4ded04",
   "metadata": {},
   "source": [
    "#### retailDataCohort - retailDataCohort.shift(1)"
   ]
  },
  {
   "cell_type": "markdown",
   "id": "b11d0fc9",
   "metadata": {},
   "source": [
    "Note: 2010-Dec has only NaN since there is no data available for 2010-09 to compare the retention"
   ]
  },
  {
   "cell_type": "markdown",
   "id": "d169e432",
   "metadata": {},
   "source": [
    "***Project Task: Week 2***\n",
    "\n",
    "Data Modeling :\n",
    "\n",
    "1. Build a <b>RFM (Recency Frequency Monetary) model</b>. <br>\n",
    "Recency means the number of days since a customer made the last purchase.<br>\n",
    "Frequency is the number of purchase in a given period. It could be 3 months, 6 months or 1 year.<br>\n",
    "Monetary is the total amount of money a customer spent in that given period.<br>\n",
    "Therefore, big spenders will be differentiated among other customers such as MVP (Minimum Viable Product) or VIP.<br>\n",
    "\n",
    "2. Calculate <b>RFM metrics</b>.\n",
    "\n",
    "3. Build <b>RFM Segments</b>. Give recency, frequency, and monetary scores individually by dividing them into quartiles.\n",
    "\n",
    "b1. <b>Combine three ratings</b> to get a RFM segment (as strings).\n",
    "\n",
    "b2. Get the <b>RFM score by adding up</b> the three ratings.\n",
    "\n",
    "b3. Analyze the <b>RFM segments by summarizing</b> them and comment on the findings.\n",
    "\n",
    "Note: Rate “recency\" for customer who has been active more recently higher than the less recent customer, because each company wants its customers to be recent.\n",
    "\n",
    "Note: Rate “frequency\" and “monetary\" higher, because the company wants the customer to visit more often and spend more money"
   ]
  },
  {
   "cell_type": "markdown",
   "id": "b21d9d1c",
   "metadata": {},
   "source": [
    "Steps of RFM(Recency, Frequency, Monetary):\n",
    "<li>Calculate the Recency, Frequency, Monetary values for each customer.\n",
    "<li>Add segment bin values to RFM table using quartile.\n",
    "<li>Sort the customer RFM score in ascending order."
   ]
  },
  {
   "cell_type": "markdown",
   "id": "371a63ef",
   "metadata": {},
   "source": [
    "<h3> Calculating the Recency, Frequency, Monetary values for each customer.</h3>"
   ]
  },
  {
   "cell_type": "markdown",
   "id": "94e0e7aa",
   "metadata": {},
   "source": [
    "Let's revisit the relevant dataset. For this we chose retailData3 to consider then entire data and not leave the incomplete months"
   ]
  },
  {
   "cell_type": "code",
   "execution_count": 53,
   "id": "ff48be9d",
   "metadata": {
    "scrolled": true
   },
   "outputs": [
    {
     "data": {
      "text/html": [
       "<div>\n",
       "<style scoped>\n",
       "    .dataframe tbody tr th:only-of-type {\n",
       "        vertical-align: middle;\n",
       "    }\n",
       "\n",
       "    .dataframe tbody tr th {\n",
       "        vertical-align: top;\n",
       "    }\n",
       "\n",
       "    .dataframe thead th {\n",
       "        text-align: right;\n",
       "    }\n",
       "</style>\n",
       "<table border=\"1\" class=\"dataframe\">\n",
       "  <thead>\n",
       "    <tr style=\"text-align: right;\">\n",
       "      <th></th>\n",
       "      <th>InvoiceNo</th>\n",
       "      <th>StockCode</th>\n",
       "      <th>Description</th>\n",
       "      <th>Quantity</th>\n",
       "      <th>InvoiceDate</th>\n",
       "      <th>UnitPrice</th>\n",
       "      <th>CustomerID</th>\n",
       "      <th>Country</th>\n",
       "      <th>Revenue</th>\n",
       "      <th>TransactionMonth</th>\n",
       "      <th>TransactionMonth1</th>\n",
       "    </tr>\n",
       "  </thead>\n",
       "  <tbody>\n",
       "    <tr>\n",
       "      <th>0</th>\n",
       "      <td>536365</td>\n",
       "      <td>85123A</td>\n",
       "      <td>WHITE HANGING HEART T-LIGHT HOLDER</td>\n",
       "      <td>6</td>\n",
       "      <td>2010-12-01 08:26:00</td>\n",
       "      <td>2.55</td>\n",
       "      <td>17850.0</td>\n",
       "      <td>United Kingdom</td>\n",
       "      <td>15.30</td>\n",
       "      <td>2010-12-01</td>\n",
       "      <td>2010-Dec</td>\n",
       "    </tr>\n",
       "    <tr>\n",
       "      <th>1</th>\n",
       "      <td>536365</td>\n",
       "      <td>71053</td>\n",
       "      <td>WHITE METAL LANTERN</td>\n",
       "      <td>6</td>\n",
       "      <td>2010-12-01 08:26:00</td>\n",
       "      <td>3.39</td>\n",
       "      <td>17850.0</td>\n",
       "      <td>United Kingdom</td>\n",
       "      <td>20.34</td>\n",
       "      <td>2010-12-01</td>\n",
       "      <td>2010-Dec</td>\n",
       "    </tr>\n",
       "    <tr>\n",
       "      <th>2</th>\n",
       "      <td>536365</td>\n",
       "      <td>84406B</td>\n",
       "      <td>CREAM CUPID HEARTS COAT HANGER</td>\n",
       "      <td>8</td>\n",
       "      <td>2010-12-01 08:26:00</td>\n",
       "      <td>2.75</td>\n",
       "      <td>17850.0</td>\n",
       "      <td>United Kingdom</td>\n",
       "      <td>22.00</td>\n",
       "      <td>2010-12-01</td>\n",
       "      <td>2010-Dec</td>\n",
       "    </tr>\n",
       "  </tbody>\n",
       "</table>\n",
       "</div>"
      ],
      "text/plain": [
       "  InvoiceNo StockCode                         Description  Quantity  \\\n",
       "0    536365    85123A  WHITE HANGING HEART T-LIGHT HOLDER         6   \n",
       "1    536365     71053                 WHITE METAL LANTERN         6   \n",
       "2    536365    84406B      CREAM CUPID HEARTS COAT HANGER         8   \n",
       "\n",
       "          InvoiceDate  UnitPrice CustomerID         Country  Revenue  \\\n",
       "0 2010-12-01 08:26:00       2.55    17850.0  United Kingdom    15.30   \n",
       "1 2010-12-01 08:26:00       3.39    17850.0  United Kingdom    20.34   \n",
       "2 2010-12-01 08:26:00       2.75    17850.0  United Kingdom    22.00   \n",
       "\n",
       "  TransactionMonth TransactionMonth1  \n",
       "0       2010-12-01          2010-Dec  \n",
       "1       2010-12-01          2010-Dec  \n",
       "2       2010-12-01          2010-Dec  "
      ]
     },
     "execution_count": 53,
     "metadata": {},
     "output_type": "execute_result"
    }
   ],
   "source": [
    "retailData3.head(3)"
   ]
  },
  {
   "cell_type": "code",
   "execution_count": 54,
   "id": "6de2cc4c",
   "metadata": {},
   "outputs": [
    {
     "name": "stdout",
     "output_type": "stream",
     "text": [
      "\u001b[94m\u001b[1mThe data types of retailData1 are as follows\n",
      "\n",
      "\u001b[0m\u001b[92mInvoiceNo                    object\n",
      "StockCode                    object\n",
      "Description                  object\n",
      "Quantity                      int64\n",
      "InvoiceDate          datetime64[ns]\n",
      "UnitPrice                   float64\n",
      "CustomerID                   object\n",
      "Country                      object\n",
      "Revenue                     float64\n",
      "TransactionMonth     datetime64[ns]\n",
      "TransactionMonth1            object\n",
      "dtype: object\u001b[0m\n"
     ]
    }
   ],
   "source": [
    "print((color.BLUE + \n",
    "       color.BOLD + \n",
    "       'The data types of retailData1 are as follows\\n\\n' +\n",
    "       color.END +\n",
    "       color.GREEN + \n",
    "       '{}'+\n",
    "       color.END).\n",
    "      format(retailData3.dtypes))"
   ]
  },
  {
   "cell_type": "markdown",
   "id": "e462af15",
   "metadata": {},
   "source": [
    "<li>For Recency, Calculate the number of days between present date and date of last purchase each customer.\n",
    "<li>For Frequency, Calculate the number of orders for each customer.\n",
    "<li>For Monetary, Calculate sum of purchase price for each customer."
   ]
  },
  {
   "cell_type": "code",
   "execution_count": 55,
   "id": "c2e28cde",
   "metadata": {},
   "outputs": [
    {
     "name": "stdout",
     "output_type": "stream",
     "text": [
      "\u001b[1m\u001b[94mThe last invoice date is \n",
      "\n",
      "\u001b[0m\t2011-12-09 12:50:00\n"
     ]
    }
   ],
   "source": [
    "lastInvoiceDate = max(retailData3['InvoiceDate'])\n",
    "\n",
    "print(color.BOLD +\n",
    "      color.BLUE +\n",
    "      'The last invoice date is \\n\\n' +\n",
    "      color.END +\n",
    "      '\\t{}'.\n",
    "      format(lastInvoiceDate))"
   ]
  },
  {
   "cell_type": "code",
   "execution_count": 56,
   "id": "fa2f3686",
   "metadata": {},
   "outputs": [],
   "source": [
    "retailDataRFM = retailData3.groupby('CustomerID').agg({'InvoiceDate': lambda date: (lastInvoiceDate - date.max()).days, # Recency\n",
    "                                                       'InvoiceNo': lambda num: len(num),  # Frequency\n",
    "                                                       'Revenue': lambda price: price.sum()})     # Monetary Value"
   ]
  },
  {
   "cell_type": "code",
   "execution_count": 57,
   "id": "cd843bc7",
   "metadata": {},
   "outputs": [
    {
     "data": {
      "text/plain": [
       "Index(['InvoiceDate', 'InvoiceNo', 'Revenue'], dtype='object')"
      ]
     },
     "execution_count": 57,
     "metadata": {},
     "output_type": "execute_result"
    }
   ],
   "source": [
    "retailDataRFM.columns"
   ]
  },
  {
   "cell_type": "code",
   "execution_count": 58,
   "id": "a1b5bf41",
   "metadata": {},
   "outputs": [],
   "source": [
    "retailDataRFM.rename(columns={'InvoiceDate': 'Recency',\n",
    "                              'InvoiceNo': 'Frequency',\n",
    "                              'Revenue': 'Monetary'}, inplace=True)"
   ]
  },
  {
   "cell_type": "code",
   "execution_count": 59,
   "id": "ff32559a",
   "metadata": {},
   "outputs": [
    {
     "data": {
      "text/html": [
       "<div>\n",
       "<style scoped>\n",
       "    .dataframe tbody tr th:only-of-type {\n",
       "        vertical-align: middle;\n",
       "    }\n",
       "\n",
       "    .dataframe tbody tr th {\n",
       "        vertical-align: top;\n",
       "    }\n",
       "\n",
       "    .dataframe thead th {\n",
       "        text-align: right;\n",
       "    }\n",
       "</style>\n",
       "<table border=\"1\" class=\"dataframe\">\n",
       "  <thead>\n",
       "    <tr style=\"text-align: right;\">\n",
       "      <th></th>\n",
       "      <th>Recency</th>\n",
       "      <th>Frequency</th>\n",
       "      <th>Monetary</th>\n",
       "    </tr>\n",
       "    <tr>\n",
       "      <th>CustomerID</th>\n",
       "      <th></th>\n",
       "      <th></th>\n",
       "      <th></th>\n",
       "    </tr>\n",
       "  </thead>\n",
       "  <tbody>\n",
       "    <tr>\n",
       "      <th>12346.0</th>\n",
       "      <td>325</td>\n",
       "      <td>1</td>\n",
       "      <td>77183.60</td>\n",
       "    </tr>\n",
       "    <tr>\n",
       "      <th>12347.0</th>\n",
       "      <td>1</td>\n",
       "      <td>182</td>\n",
       "      <td>4310.00</td>\n",
       "    </tr>\n",
       "    <tr>\n",
       "      <th>12348.0</th>\n",
       "      <td>74</td>\n",
       "      <td>31</td>\n",
       "      <td>1797.24</td>\n",
       "    </tr>\n",
       "    <tr>\n",
       "      <th>12349.0</th>\n",
       "      <td>18</td>\n",
       "      <td>73</td>\n",
       "      <td>1757.55</td>\n",
       "    </tr>\n",
       "    <tr>\n",
       "      <th>12350.0</th>\n",
       "      <td>309</td>\n",
       "      <td>17</td>\n",
       "      <td>334.40</td>\n",
       "    </tr>\n",
       "  </tbody>\n",
       "</table>\n",
       "</div>"
      ],
      "text/plain": [
       "            Recency  Frequency  Monetary\n",
       "CustomerID                              \n",
       "12346.0         325          1  77183.60\n",
       "12347.0           1        182   4310.00\n",
       "12348.0          74         31   1797.24\n",
       "12349.0          18         73   1757.55\n",
       "12350.0         309         17    334.40"
      ]
     },
     "execution_count": 59,
     "metadata": {},
     "output_type": "execute_result"
    }
   ],
   "source": [
    "retailDataRFM.head()"
   ]
  },
  {
   "cell_type": "code",
   "execution_count": 60,
   "id": "787b7112",
   "metadata": {},
   "outputs": [
    {
     "data": {
      "text/html": [
       "<div>\n",
       "<style scoped>\n",
       "    .dataframe tbody tr th:only-of-type {\n",
       "        vertical-align: middle;\n",
       "    }\n",
       "\n",
       "    .dataframe tbody tr th {\n",
       "        vertical-align: top;\n",
       "    }\n",
       "\n",
       "    .dataframe thead th {\n",
       "        text-align: right;\n",
       "    }\n",
       "</style>\n",
       "<table border=\"1\" class=\"dataframe\">\n",
       "  <thead>\n",
       "    <tr style=\"text-align: right;\">\n",
       "      <th></th>\n",
       "      <th>Recency</th>\n",
       "      <th>Frequency</th>\n",
       "      <th>Monetary</th>\n",
       "    </tr>\n",
       "    <tr>\n",
       "      <th>CustomerID</th>\n",
       "      <th></th>\n",
       "      <th></th>\n",
       "      <th></th>\n",
       "    </tr>\n",
       "  </thead>\n",
       "  <tbody>\n",
       "    <tr>\n",
       "      <th>12346.0</th>\n",
       "      <td>325</td>\n",
       "      <td>1</td>\n",
       "      <td>77183.60</td>\n",
       "    </tr>\n",
       "    <tr>\n",
       "      <th>12347.0</th>\n",
       "      <td>1</td>\n",
       "      <td>182</td>\n",
       "      <td>4310.00</td>\n",
       "    </tr>\n",
       "    <tr>\n",
       "      <th>12348.0</th>\n",
       "      <td>74</td>\n",
       "      <td>31</td>\n",
       "      <td>1797.24</td>\n",
       "    </tr>\n",
       "    <tr>\n",
       "      <th>12349.0</th>\n",
       "      <td>18</td>\n",
       "      <td>73</td>\n",
       "      <td>1757.55</td>\n",
       "    </tr>\n",
       "    <tr>\n",
       "      <th>12350.0</th>\n",
       "      <td>309</td>\n",
       "      <td>17</td>\n",
       "      <td>334.40</td>\n",
       "    </tr>\n",
       "  </tbody>\n",
       "</table>\n",
       "</div>"
      ],
      "text/plain": [
       "            Recency  Frequency  Monetary\n",
       "CustomerID                              \n",
       "12346.0         325          1  77183.60\n",
       "12347.0           1        182   4310.00\n",
       "12348.0          74         31   1797.24\n",
       "12349.0          18         73   1757.55\n",
       "12350.0         309         17    334.40"
      ]
     },
     "execution_count": 60,
     "metadata": {},
     "output_type": "execute_result"
    }
   ],
   "source": [
    "retailDataRFM1 = retailDataRFM.copy()\n",
    "retailDataRFM1['Recency'] = retailDataRFM1['Recency'].astype(int)\n",
    "retailDataRFM1.head()"
   ]
  },
  {
   "cell_type": "markdown",
   "id": "4028b4f0",
   "metadata": {},
   "source": [
    "<h3>Adding segment bin values to RFM table using quartile.</h3>"
   ]
  },
  {
   "cell_type": "code",
   "execution_count": 61,
   "id": "ffe0447e",
   "metadata": {},
   "outputs": [],
   "source": [
    "retailDataRFM1['r_quartile'] = pd.qcut(retailDataRFM1['Recency'], 4, ['1','2','3','4'])\n",
    "retailDataRFM1['f_quartile'] = pd.qcut(retailDataRFM1['Frequency'], 4, ['4','3','2','1'])\n",
    "retailDataRFM1['m_quartile'] = pd.qcut(retailDataRFM1['Monetary'], 4, ['4','3','2','1'])"
   ]
  },
  {
   "cell_type": "code",
   "execution_count": 62,
   "id": "66880771",
   "metadata": {},
   "outputs": [
    {
     "data": {
      "text/html": [
       "<div>\n",
       "<style scoped>\n",
       "    .dataframe tbody tr th:only-of-type {\n",
       "        vertical-align: middle;\n",
       "    }\n",
       "\n",
       "    .dataframe tbody tr th {\n",
       "        vertical-align: top;\n",
       "    }\n",
       "\n",
       "    .dataframe thead th {\n",
       "        text-align: right;\n",
       "    }\n",
       "</style>\n",
       "<table border=\"1\" class=\"dataframe\">\n",
       "  <thead>\n",
       "    <tr style=\"text-align: right;\">\n",
       "      <th></th>\n",
       "      <th>Recency</th>\n",
       "      <th>Frequency</th>\n",
       "      <th>Monetary</th>\n",
       "      <th>r_quartile</th>\n",
       "      <th>f_quartile</th>\n",
       "      <th>m_quartile</th>\n",
       "      <th>RFM_Score</th>\n",
       "    </tr>\n",
       "    <tr>\n",
       "      <th>CustomerID</th>\n",
       "      <th></th>\n",
       "      <th></th>\n",
       "      <th></th>\n",
       "      <th></th>\n",
       "      <th></th>\n",
       "      <th></th>\n",
       "      <th></th>\n",
       "    </tr>\n",
       "  </thead>\n",
       "  <tbody>\n",
       "    <tr>\n",
       "      <th>12346.0</th>\n",
       "      <td>325</td>\n",
       "      <td>1</td>\n",
       "      <td>77183.60</td>\n",
       "      <td>4</td>\n",
       "      <td>4</td>\n",
       "      <td>1</td>\n",
       "      <td>441</td>\n",
       "    </tr>\n",
       "    <tr>\n",
       "      <th>12347.0</th>\n",
       "      <td>1</td>\n",
       "      <td>182</td>\n",
       "      <td>4310.00</td>\n",
       "      <td>1</td>\n",
       "      <td>1</td>\n",
       "      <td>1</td>\n",
       "      <td>111</td>\n",
       "    </tr>\n",
       "    <tr>\n",
       "      <th>12348.0</th>\n",
       "      <td>74</td>\n",
       "      <td>31</td>\n",
       "      <td>1797.24</td>\n",
       "      <td>3</td>\n",
       "      <td>3</td>\n",
       "      <td>1</td>\n",
       "      <td>331</td>\n",
       "    </tr>\n",
       "    <tr>\n",
       "      <th>12349.0</th>\n",
       "      <td>18</td>\n",
       "      <td>73</td>\n",
       "      <td>1757.55</td>\n",
       "      <td>2</td>\n",
       "      <td>2</td>\n",
       "      <td>1</td>\n",
       "      <td>221</td>\n",
       "    </tr>\n",
       "    <tr>\n",
       "      <th>12350.0</th>\n",
       "      <td>309</td>\n",
       "      <td>17</td>\n",
       "      <td>334.40</td>\n",
       "      <td>4</td>\n",
       "      <td>4</td>\n",
       "      <td>3</td>\n",
       "      <td>443</td>\n",
       "    </tr>\n",
       "  </tbody>\n",
       "</table>\n",
       "</div>"
      ],
      "text/plain": [
       "            Recency  Frequency  Monetary r_quartile f_quartile m_quartile  \\\n",
       "CustomerID                                                                  \n",
       "12346.0         325          1  77183.60          4          4          1   \n",
       "12347.0           1        182   4310.00          1          1          1   \n",
       "12348.0          74         31   1797.24          3          3          1   \n",
       "12349.0          18         73   1757.55          2          2          1   \n",
       "12350.0         309         17    334.40          4          4          3   \n",
       "\n",
       "           RFM_Score  \n",
       "CustomerID            \n",
       "12346.0          441  \n",
       "12347.0          111  \n",
       "12348.0          331  \n",
       "12349.0          221  \n",
       "12350.0          443  "
      ]
     },
     "execution_count": 62,
     "metadata": {},
     "output_type": "execute_result"
    }
   ],
   "source": [
    "retailDataRFM1['RFM_Score'] = retailDataRFM1.r_quartile.astype(str)+ retailDataRFM1.f_quartile.astype(str) + retailDataRFM1.m_quartile.astype(str)\n",
    "retailDataRFM1.head()"
   ]
  },
  {
   "cell_type": "code",
   "execution_count": 63,
   "id": "b9c1b4a7",
   "metadata": {},
   "outputs": [
    {
     "data": {
      "text/plain": [
       "array(['441', '111', '331', '221', '443', '444', '422', '211', '132',\n",
       "       '311', '333', '122', '433', '144', '322', '232', '143', '332',\n",
       "       '121', '411', '233', '223', '222', '243', '421', '432', '431',\n",
       "       '244', '343', '133', '341', '321', '334', '342', '434', '213',\n",
       "       '131', '344', '242', '312', '123', '313', '442', '141', '231',\n",
       "       '212', '324', '412', '423', '112', '142', '234', '134', '113',\n",
       "       '424', '323', '224', '124', '241', '413', '114'], dtype=object)"
      ]
     },
     "execution_count": 63,
     "metadata": {},
     "output_type": "execute_result"
    }
   ],
   "source": [
    "retailDataRFM1['RFM_Score'].unique()"
   ]
  },
  {
   "cell_type": "code",
   "execution_count": 64,
   "id": "285f4580",
   "metadata": {},
   "outputs": [
    {
     "data": {
      "text/plain": [
       "'444'"
      ]
     },
     "execution_count": 64,
     "metadata": {},
     "output_type": "execute_result"
    }
   ],
   "source": [
    "retailDataRFM1['RFM_Score'].max()"
   ]
  },
  {
   "cell_type": "markdown",
   "id": "71e166c0",
   "metadata": {},
   "source": [
    "Filter out Top/Best cusotmers"
   ]
  },
  {
   "cell_type": "code",
   "execution_count": 65,
   "id": "59e33c8d",
   "metadata": {},
   "outputs": [
    {
     "name": "stdout",
     "output_type": "stream",
     "text": [
      "\u001b[94m\u001b[1mThe most important customers are as follows.\u001b[0m\n"
     ]
    },
    {
     "data": {
      "text/html": [
       "<div>\n",
       "<style scoped>\n",
       "    .dataframe tbody tr th:only-of-type {\n",
       "        vertical-align: middle;\n",
       "    }\n",
       "\n",
       "    .dataframe tbody tr th {\n",
       "        vertical-align: top;\n",
       "    }\n",
       "\n",
       "    .dataframe thead th {\n",
       "        text-align: right;\n",
       "    }\n",
       "</style>\n",
       "<table border=\"1\" class=\"dataframe\">\n",
       "  <thead>\n",
       "    <tr style=\"text-align: right;\">\n",
       "      <th></th>\n",
       "      <th>Recency</th>\n",
       "      <th>Frequency</th>\n",
       "      <th>Monetary</th>\n",
       "      <th>r_quartile</th>\n",
       "      <th>f_quartile</th>\n",
       "      <th>m_quartile</th>\n",
       "      <th>RFM_Score</th>\n",
       "    </tr>\n",
       "    <tr>\n",
       "      <th>CustomerID</th>\n",
       "      <th></th>\n",
       "      <th></th>\n",
       "      <th></th>\n",
       "      <th></th>\n",
       "      <th></th>\n",
       "      <th></th>\n",
       "      <th></th>\n",
       "    </tr>\n",
       "  </thead>\n",
       "  <tbody>\n",
       "    <tr>\n",
       "      <th>12353.0</th>\n",
       "      <td>203</td>\n",
       "      <td>4</td>\n",
       "      <td>89.00</td>\n",
       "      <td>4</td>\n",
       "      <td>4</td>\n",
       "      <td>4</td>\n",
       "      <td>444</td>\n",
       "    </tr>\n",
       "    <tr>\n",
       "      <th>12361.0</th>\n",
       "      <td>286</td>\n",
       "      <td>10</td>\n",
       "      <td>189.90</td>\n",
       "      <td>4</td>\n",
       "      <td>4</td>\n",
       "      <td>4</td>\n",
       "      <td>444</td>\n",
       "    </tr>\n",
       "    <tr>\n",
       "      <th>12401.0</th>\n",
       "      <td>302</td>\n",
       "      <td>5</td>\n",
       "      <td>84.30</td>\n",
       "      <td>4</td>\n",
       "      <td>4</td>\n",
       "      <td>4</td>\n",
       "      <td>444</td>\n",
       "    </tr>\n",
       "    <tr>\n",
       "      <th>12402.0</th>\n",
       "      <td>322</td>\n",
       "      <td>11</td>\n",
       "      <td>225.60</td>\n",
       "      <td>4</td>\n",
       "      <td>4</td>\n",
       "      <td>4</td>\n",
       "      <td>444</td>\n",
       "    </tr>\n",
       "    <tr>\n",
       "      <th>12441.0</th>\n",
       "      <td>366</td>\n",
       "      <td>11</td>\n",
       "      <td>173.55</td>\n",
       "      <td>4</td>\n",
       "      <td>4</td>\n",
       "      <td>4</td>\n",
       "      <td>444</td>\n",
       "    </tr>\n",
       "  </tbody>\n",
       "</table>\n",
       "</div>"
      ],
      "text/plain": [
       "            Recency  Frequency  Monetary r_quartile f_quartile m_quartile  \\\n",
       "CustomerID                                                                  \n",
       "12353.0         203          4     89.00          4          4          4   \n",
       "12361.0         286         10    189.90          4          4          4   \n",
       "12401.0         302          5     84.30          4          4          4   \n",
       "12402.0         322         11    225.60          4          4          4   \n",
       "12441.0         366         11    173.55          4          4          4   \n",
       "\n",
       "           RFM_Score  \n",
       "CustomerID            \n",
       "12353.0          444  \n",
       "12361.0          444  \n",
       "12401.0          444  \n",
       "12402.0          444  \n",
       "12441.0          444  "
      ]
     },
     "execution_count": 65,
     "metadata": {},
     "output_type": "execute_result"
    }
   ],
   "source": [
    "custMostImp = retailDataRFM1[retailDataRFM1['RFM_Score']==retailDataRFM1['RFM_Score'].max()]\n",
    "\n",
    "print(color.BLUE +\n",
    "      color.BOLD +\n",
    "      'The most important customers are as follows.' +\n",
    "      color.END)\n",
    "\n",
    "custMostImp.head()"
   ]
  },
  {
   "cell_type": "code",
   "execution_count": 66,
   "id": "94471fe0",
   "metadata": {},
   "outputs": [
    {
     "data": {
      "text/plain": [
       "<AxesSubplot:ylabel='Frequency'>"
      ]
     },
     "execution_count": 66,
     "metadata": {},
     "output_type": "execute_result"
    },
    {
     "data": {
      "image/png": "[encoded data removed]",
      "text/plain": [
       "<Figure size 432x288 with 1 Axes>"
      ]
     },
     "metadata": {},
     "output_type": "display_data"
    }
   ],
   "source": [
    "retailDataRFM1['RFM_Score'] = retailDataRFM1['RFM_Score'].astype(int)\n",
    "retailDataRFM1['RFM_Score'].plot(kind='hist')"
   ]
  },
  {
   "cell_type": "code",
   "execution_count": 67,
   "id": "b9b05e1e",
   "metadata": {},
   "outputs": [],
   "source": [
    "labels_5 = ['Low Value  Customers',\n",
    "            'Normal Customers',\n",
    "            'Valuable Customers',\n",
    "            'Highly Valuable Customers',\n",
    "            'Top Customers']"
   ]
  },
  {
   "cell_type": "code",
   "execution_count": 68,
   "id": "61837b9b",
   "metadata": {},
   "outputs": [
    {
     "data": {
      "text/html": [
       "<div>\n",
       "<style scoped>\n",
       "    .dataframe tbody tr th:only-of-type {\n",
       "        vertical-align: middle;\n",
       "    }\n",
       "\n",
       "    .dataframe tbody tr th {\n",
       "        vertical-align: top;\n",
       "    }\n",
       "\n",
       "    .dataframe thead th {\n",
       "        text-align: right;\n",
       "    }\n",
       "</style>\n",
       "<table border=\"1\" class=\"dataframe\">\n",
       "  <thead>\n",
       "    <tr style=\"text-align: right;\">\n",
       "      <th></th>\n",
       "      <th>Recency</th>\n",
       "      <th>Frequency</th>\n",
       "      <th>Monetary</th>\n",
       "      <th>r_quartile</th>\n",
       "      <th>f_quartile</th>\n",
       "      <th>m_quartile</th>\n",
       "      <th>RFM_Score</th>\n",
       "      <th>RFM_Score_Labels</th>\n",
       "    </tr>\n",
       "    <tr>\n",
       "      <th>CustomerID</th>\n",
       "      <th></th>\n",
       "      <th></th>\n",
       "      <th></th>\n",
       "      <th></th>\n",
       "      <th></th>\n",
       "      <th></th>\n",
       "      <th></th>\n",
       "      <th></th>\n",
       "    </tr>\n",
       "  </thead>\n",
       "  <tbody>\n",
       "    <tr>\n",
       "      <th>12346.0</th>\n",
       "      <td>325</td>\n",
       "      <td>1</td>\n",
       "      <td>77183.60</td>\n",
       "      <td>4</td>\n",
       "      <td>4</td>\n",
       "      <td>1</td>\n",
       "      <td>441</td>\n",
       "      <td>Highly Valuable Customers</td>\n",
       "    </tr>\n",
       "    <tr>\n",
       "      <th>12347.0</th>\n",
       "      <td>1</td>\n",
       "      <td>182</td>\n",
       "      <td>4310.00</td>\n",
       "      <td>1</td>\n",
       "      <td>1</td>\n",
       "      <td>1</td>\n",
       "      <td>111</td>\n",
       "      <td>Low Value  Customers</td>\n",
       "    </tr>\n",
       "    <tr>\n",
       "      <th>12348.0</th>\n",
       "      <td>74</td>\n",
       "      <td>31</td>\n",
       "      <td>1797.24</td>\n",
       "      <td>3</td>\n",
       "      <td>3</td>\n",
       "      <td>1</td>\n",
       "      <td>331</td>\n",
       "      <td>Valuable Customers</td>\n",
       "    </tr>\n",
       "    <tr>\n",
       "      <th>12349.0</th>\n",
       "      <td>18</td>\n",
       "      <td>73</td>\n",
       "      <td>1757.55</td>\n",
       "      <td>2</td>\n",
       "      <td>2</td>\n",
       "      <td>1</td>\n",
       "      <td>221</td>\n",
       "      <td>Normal Customers</td>\n",
       "    </tr>\n",
       "    <tr>\n",
       "      <th>12350.0</th>\n",
       "      <td>309</td>\n",
       "      <td>17</td>\n",
       "      <td>334.40</td>\n",
       "      <td>4</td>\n",
       "      <td>4</td>\n",
       "      <td>3</td>\n",
       "      <td>443</td>\n",
       "      <td>Highly Valuable Customers</td>\n",
       "    </tr>\n",
       "    <tr>\n",
       "      <th>...</th>\n",
       "      <td>...</td>\n",
       "      <td>...</td>\n",
       "      <td>...</td>\n",
       "      <td>...</td>\n",
       "      <td>...</td>\n",
       "      <td>...</td>\n",
       "      <td>...</td>\n",
       "      <td>...</td>\n",
       "    </tr>\n",
       "    <tr>\n",
       "      <th>18280.0</th>\n",
       "      <td>277</td>\n",
       "      <td>10</td>\n",
       "      <td>180.60</td>\n",
       "      <td>4</td>\n",
       "      <td>4</td>\n",
       "      <td>4</td>\n",
       "      <td>444</td>\n",
       "      <td>Top Customers</td>\n",
       "    </tr>\n",
       "    <tr>\n",
       "      <th>18281.0</th>\n",
       "      <td>180</td>\n",
       "      <td>7</td>\n",
       "      <td>80.82</td>\n",
       "      <td>4</td>\n",
       "      <td>4</td>\n",
       "      <td>4</td>\n",
       "      <td>444</td>\n",
       "      <td>Top Customers</td>\n",
       "    </tr>\n",
       "    <tr>\n",
       "      <th>18282.0</th>\n",
       "      <td>7</td>\n",
       "      <td>12</td>\n",
       "      <td>178.05</td>\n",
       "      <td>1</td>\n",
       "      <td>4</td>\n",
       "      <td>4</td>\n",
       "      <td>144</td>\n",
       "      <td>Low Value  Customers</td>\n",
       "    </tr>\n",
       "    <tr>\n",
       "      <th>18283.0</th>\n",
       "      <td>3</td>\n",
       "      <td>721</td>\n",
       "      <td>2045.53</td>\n",
       "      <td>1</td>\n",
       "      <td>1</td>\n",
       "      <td>1</td>\n",
       "      <td>111</td>\n",
       "      <td>Low Value  Customers</td>\n",
       "    </tr>\n",
       "    <tr>\n",
       "      <th>18287.0</th>\n",
       "      <td>42</td>\n",
       "      <td>70</td>\n",
       "      <td>1837.28</td>\n",
       "      <td>2</td>\n",
       "      <td>2</td>\n",
       "      <td>1</td>\n",
       "      <td>221</td>\n",
       "      <td>Normal Customers</td>\n",
       "    </tr>\n",
       "  </tbody>\n",
       "</table>\n",
       "<p>4339 rows × 8 columns</p>\n",
       "</div>"
      ],
      "text/plain": [
       "            Recency  Frequency  Monetary r_quartile f_quartile m_quartile  \\\n",
       "CustomerID                                                                  \n",
       "12346.0         325          1  77183.60          4          4          1   \n",
       "12347.0           1        182   4310.00          1          1          1   \n",
       "12348.0          74         31   1797.24          3          3          1   \n",
       "12349.0          18         73   1757.55          2          2          1   \n",
       "12350.0         309         17    334.40          4          4          3   \n",
       "...             ...        ...       ...        ...        ...        ...   \n",
       "18280.0         277         10    180.60          4          4          4   \n",
       "18281.0         180          7     80.82          4          4          4   \n",
       "18282.0           7         12    178.05          1          4          4   \n",
       "18283.0           3        721   2045.53          1          1          1   \n",
       "18287.0          42         70   1837.28          2          2          1   \n",
       "\n",
       "            RFM_Score           RFM_Score_Labels  \n",
       "CustomerID                                        \n",
       "12346.0           441  Highly Valuable Customers  \n",
       "12347.0           111       Low Value  Customers  \n",
       "12348.0           331         Valuable Customers  \n",
       "12349.0           221           Normal Customers  \n",
       "12350.0           443  Highly Valuable Customers  \n",
       "...               ...                        ...  \n",
       "18280.0           444              Top Customers  \n",
       "18281.0           444              Top Customers  \n",
       "18282.0           144       Low Value  Customers  \n",
       "18283.0           111       Low Value  Customers  \n",
       "18287.0           221           Normal Customers  \n",
       "\n",
       "[4339 rows x 8 columns]"
      ]
     },
     "execution_count": 68,
     "metadata": {},
     "output_type": "execute_result"
    }
   ],
   "source": [
    "retailDataRFM1['RFM_Score_Labels'] = pd.qcut(retailDataRFM1['RFM_Score'],\n",
    "                                             q=[0,0.25, 0.5, 0.75, 0.90, 1],\n",
    "                                             labels=labels_5)\n",
    "retailDataRFM1"
   ]
  },
  {
   "cell_type": "code",
   "execution_count": 69,
   "id": "d78b4cf7",
   "metadata": {},
   "outputs": [
    {
     "name": "stdout",
     "output_type": "stream",
     "text": [
      "           Recency    Frequency       Monetary    RFM_Score\n",
      "count  4339.000000  4339.000000    4339.000000  4339.000000\n",
      "mean     91.518322    90.512100    2048.215924   276.206038\n",
      "std     100.009747   225.515328    8984.248352   118.825268\n",
      "min       0.000000     1.000000       0.000000   111.000000\n",
      "25%      17.000000    17.000000     306.455000   144.000000\n",
      "50%      50.000000    41.000000     668.560000   244.000000\n",
      "75%     141.000000    98.000000    1660.315000   344.000000\n",
      "max     373.000000  7676.000000  280206.020000   444.000000\n"
     ]
    }
   ],
   "source": [
    "print(retailDataRFM1.describe())"
   ]
  },
  {
   "cell_type": "code",
   "execution_count": 70,
   "id": "5cb9610c",
   "metadata": {},
   "outputs": [
    {
     "name": "stdout",
     "output_type": "stream",
     "text": [
      "\u001b[1m\u001b[94mThe count of customers based on their value to the company is as follows \n",
      "\n",
      "\u001b[0mRFM_Score_Labels\n",
      "Low Value  Customers         1126\n",
      "Normal Customers             1063\n",
      "Valuable Customers           1066\n",
      "Highly Valuable Customers     703\n",
      "Top Customers                 381\n",
      "dtype: int64\n"
     ]
    }
   ],
   "source": [
    "print(color.BOLD +\n",
    "      color.BLUE +\n",
    "      'The count of customers based on their value to the company is as follows \\n\\n' +\n",
    "      color.END +\n",
    "      '{}'.\n",
    "      format(retailDataRFM1.\n",
    "             groupby(['RFM_Score_Labels']).\n",
    "             size()))"
   ]
  },
  {
   "cell_type": "markdown",
   "id": "e5a3be72",
   "metadata": {},
   "source": [
    "<h5>RFM Result Interpretation</h5>"
   ]
  },
  {
   "cell_type": "markdown",
   "id": "12b76d90",
   "metadata": {},
   "source": [
    "Combine all three quartiles(r_quartile,f_quartile,m_quartile) in a single column, this rank will help you to segment the customers well group."
   ]
  },
  {
   "cell_type": "code",
   "execution_count": 71,
   "id": "2eb0c79e",
   "metadata": {},
   "outputs": [
    {
     "data": {
      "image/png": "[encoded data removed]",
      "text/plain": [
       "<Figure size 864x576 with 1 Axes>"
      ]
     },
     "metadata": {},
     "output_type": "display_data"
    }
   ],
   "source": [
    "plt.figure(figsize=(12,8))\n",
    "ax = sns.countplot(x='RFM_Score_Labels',\n",
    "                   data=retailDataRFM1,\n",
    "                   order=retailDataRFM1['RFM_Score_Labels'].value_counts().index[:5])\n",
    "ax.set_ylabel('Count',\n",
    "             fontsize = 16)\n",
    "ax.set_xlabel('Customer Labels',\n",
    "             fontsize = 16)\n",
    "ax.set_title('Customer Segmentation',\n",
    "             fontsize = 20);\n",
    "\n",
    "value_ticks = []\n",
    "for x in retailDataRFM1['RFM_Score_Labels'].value_counts():\n",
    "    value_ticks.append(str(int(x)))\n",
    "\n",
    "for a, label in zip(ax.patches, value_ticks):\n",
    "    ax.annotate(label, (a.get_x() + 0.26, a.get_height() + 2))"
   ]
  },
  {
   "cell_type": "code",
   "execution_count": 72,
   "id": "556578eb",
   "metadata": {},
   "outputs": [
    {
     "data": {
      "image/png": "[encoded data removed]",
      "text/plain": [
       "<Figure size 720x720 with 1 Axes>"
      ]
     },
     "metadata": {},
     "output_type": "display_data"
    }
   ],
   "source": [
    "plt.figure(figsize=(10,10))\n",
    "\n",
    "plt.pie(retailDataRFM1.RFM_Score_Labels.value_counts(),\n",
    "        labels=retailDataRFM1.RFM_Score_Labels.value_counts().index,\n",
    "        autopct='%1.1f%%')\n",
    "\n",
    "plt.title(\"Customer Segmentation\",\n",
    "          bbox={'facecolor':'0.8', 'pad':5},\n",
    "          fontsize = 20)\n",
    "         \n",
    "plt.show()"
   ]
  },
  {
   "cell_type": "code",
   "execution_count": 73,
   "id": "1faf23de",
   "metadata": {},
   "outputs": [],
   "source": [
    "def skewness(df_skew, column):\n",
    "    skew = stats.skew(df_skew[column])\n",
    "    skewtest = stats.skewtest(df_skew[column])\n",
    "    plt.title('Distribution of ' + column)\n",
    "    sns.distplot(df_skew[column])\n",
    "    print(\"{}'s: Skew: {}, : {}\".format(column, skew, skewtest))\n",
    "    return"
   ]
  },
  {
   "cell_type": "code",
   "execution_count": 74,
   "id": "0a4045a4",
   "metadata": {},
   "outputs": [
    {
     "data": {
      "text/plain": [
       "Recency                int64\n",
       "Frequency              int64\n",
       "Monetary             float64\n",
       "r_quartile          category\n",
       "f_quartile          category\n",
       "m_quartile          category\n",
       "RFM_Score              int64\n",
       "RFM_Score_Labels    category\n",
       "dtype: object"
      ]
     },
     "execution_count": 74,
     "metadata": {},
     "output_type": "execute_result"
    }
   ],
   "source": [
    "retailDataRFM1.dtypes"
   ]
  },
  {
   "cell_type": "code",
   "execution_count": 75,
   "id": "234b978b",
   "metadata": {},
   "outputs": [
    {
     "name": "stdout",
     "output_type": "stream",
     "text": [
      "Recency's: Skew: 1.2459259732239887, : SkewtestResult(statistic=26.614420985448668, pvalue=4.6224317516580606e-156)\n",
      "Frequency's: Skew: 18.03738064812122, : SkewtestResult(statistic=83.49375938071402, pvalue=0.0)\n",
      "Monetary's: Skew: 19.334715695239407, : SkewtestResult(statistic=85.02391804593985, pvalue=0.0)\n"
     ]
    },
    {
     "data": {
      "image/png": "[encoded data removed]",
      "text/plain": [
       "<Figure size 648x648 with 3 Axes>"
      ]
     },
     "metadata": {},
     "output_type": "display_data"
    }
   ],
   "source": [
    "# Plot all 3 graphs together for summary findings\n",
    "plt.figure(figsize=(9, 9))\n",
    "\n",
    "plt.subplot(3, 1, 1)\n",
    "skewness(retailDataRFM1,'Recency')\n",
    "\n",
    "plt.subplot(3, 1, 2)\n",
    "skewness(retailDataRFM1,'Frequency')\n",
    "\n",
    "plt.subplot(3, 1, 3)\n",
    "skewness(retailDataRFM1,'Monetary')\n",
    "\n",
    "plt.tight_layout()"
   ]
  },
  {
   "cell_type": "markdown",
   "id": "50c755c0",
   "metadata": {},
   "source": [
    "***Project Task: Week 3***\n",
    "\n",
    "Data Modeling :\n",
    "\n",
    "1. Create clusters using k-means clustering algorithm.\n",
    "\n",
    "a. Prepare the data for the algorithm. If the data is asymmetrically distributed, manage the skewness with appropriate transformation. Standardize the data.\n",
    "\n",
    "b. Decide the optimum number of clusters to be formed.\n",
    "\n",
    "c. Analyze these clusters and comment on the results."
   ]
  },
  {
   "cell_type": "code",
   "execution_count": 76,
   "id": "d464b0b3",
   "metadata": {},
   "outputs": [
    {
     "data": {
      "text/html": [
       "<div>\n",
       "<style scoped>\n",
       "    .dataframe tbody tr th:only-of-type {\n",
       "        vertical-align: middle;\n",
       "    }\n",
       "\n",
       "    .dataframe tbody tr th {\n",
       "        vertical-align: top;\n",
       "    }\n",
       "\n",
       "    .dataframe thead th {\n",
       "        text-align: right;\n",
       "    }\n",
       "</style>\n",
       "<table border=\"1\" class=\"dataframe\">\n",
       "  <thead>\n",
       "    <tr style=\"text-align: right;\">\n",
       "      <th></th>\n",
       "      <th>Recency</th>\n",
       "      <th>Frequency</th>\n",
       "      <th>Monetary</th>\n",
       "    </tr>\n",
       "  </thead>\n",
       "  <tbody>\n",
       "    <tr>\n",
       "      <th>count</th>\n",
       "      <td>4339.000000</td>\n",
       "      <td>4339.000000</td>\n",
       "      <td>4339.000000</td>\n",
       "    </tr>\n",
       "    <tr>\n",
       "      <th>mean</th>\n",
       "      <td>91.518322</td>\n",
       "      <td>90.512100</td>\n",
       "      <td>2048.215924</td>\n",
       "    </tr>\n",
       "    <tr>\n",
       "      <th>std</th>\n",
       "      <td>100.009747</td>\n",
       "      <td>225.515328</td>\n",
       "      <td>8984.248352</td>\n",
       "    </tr>\n",
       "    <tr>\n",
       "      <th>min</th>\n",
       "      <td>0.000000</td>\n",
       "      <td>1.000000</td>\n",
       "      <td>0.000000</td>\n",
       "    </tr>\n",
       "    <tr>\n",
       "      <th>25%</th>\n",
       "      <td>17.000000</td>\n",
       "      <td>17.000000</td>\n",
       "      <td>306.455000</td>\n",
       "    </tr>\n",
       "    <tr>\n",
       "      <th>50%</th>\n",
       "      <td>50.000000</td>\n",
       "      <td>41.000000</td>\n",
       "      <td>668.560000</td>\n",
       "    </tr>\n",
       "    <tr>\n",
       "      <th>75%</th>\n",
       "      <td>141.000000</td>\n",
       "      <td>98.000000</td>\n",
       "      <td>1660.315000</td>\n",
       "    </tr>\n",
       "    <tr>\n",
       "      <th>max</th>\n",
       "      <td>373.000000</td>\n",
       "      <td>7676.000000</td>\n",
       "      <td>280206.020000</td>\n",
       "    </tr>\n",
       "  </tbody>\n",
       "</table>\n",
       "</div>"
      ],
      "text/plain": [
       "           Recency    Frequency       Monetary\n",
       "count  4339.000000  4339.000000    4339.000000\n",
       "mean     91.518322    90.512100    2048.215924\n",
       "std     100.009747   225.515328    8984.248352\n",
       "min       0.000000     1.000000       0.000000\n",
       "25%      17.000000    17.000000     306.455000\n",
       "50%      50.000000    41.000000     668.560000\n",
       "75%     141.000000    98.000000    1660.315000\n",
       "max     373.000000  7676.000000  280206.020000"
      ]
     },
     "execution_count": 76,
     "metadata": {},
     "output_type": "execute_result"
    }
   ],
   "source": [
    "retailRFMLog = retailDataRFM.copy()\n",
    "retailRFMLog.describe()"
   ]
  },
  {
   "cell_type": "code",
   "execution_count": 77,
   "id": "7a4af54e",
   "metadata": {},
   "outputs": [
    {
     "data": {
      "text/plain": [
       "Recency        int64\n",
       "Frequency      int64\n",
       "Monetary     float64\n",
       "dtype: object"
      ]
     },
     "execution_count": 77,
     "metadata": {},
     "output_type": "execute_result"
    }
   ],
   "source": [
    "retailRFMLog.dtypes"
   ]
  },
  {
   "cell_type": "code",
   "execution_count": 78,
   "id": "610f26cb",
   "metadata": {},
   "outputs": [],
   "source": [
    "def kmeans(retailDataRFM, clusters_number, retailDataRFM1):\n",
    "    \n",
    "    kmeans = KMeans(n_clusters = clusters_number, random_state = 1)\n",
    "    kmeans.fit(retailDataRFM1)\n",
    "\n",
    "    # Extract cluster labels\n",
    "    cluster_labels = kmeans.labels_\n",
    "        \n",
    "    # Create a cluster label column in original dataset\n",
    "    df_new = retailData.assign(Cluster = cluster_labels)\n",
    "    \n",
    "    # Initialise TSNE\n",
    "    model = TSNE(random_state=1)\n",
    "    transformed = model.fit_transform(df_new)\n",
    "    \n",
    "    # Plot t-SNE\n",
    "    plt.title('Flattened Graph of {} Clusters'.format(clusters_number))\n",
    "    sns.scatterplot(x=transformed[:,0], y=transformed[:,1], hue=cluster_labels, style=cluster_labels, palette=\"Set1\")\n",
    "    \n",
    "    return df_new"
   ]
  },
  {
   "cell_type": "markdown",
   "id": "9d79704c",
   "metadata": {},
   "source": [
    "<h5>Log Transformation is used since the data is right skewed, log transformation will be used.</h5>"
   ]
  },
  {
   "cell_type": "code",
   "execution_count": 79,
   "id": "43a3cb31",
   "metadata": {},
   "outputs": [],
   "source": [
    "retailRFMLog['Recency'] = np.log(retailRFMLog['Recency'])\n",
    "retailRFMLog['Frequency'] = np.log(retailRFMLog['Frequency'])\n",
    "retailRFMLog['Monetary'] = np.log(retailRFMLog['Monetary']-retailRFMLog['Monetary'].min()+1)"
   ]
  },
  {
   "cell_type": "markdown",
   "id": "45f38149",
   "metadata": {},
   "source": [
    "<h5>b. Build K-Means Clustering Model and Decide the optimum number of clusters to be formed.</h5>"
   ]
  },
  {
   "cell_type": "code",
   "execution_count": 80,
   "id": "965d1830",
   "metadata": {},
   "outputs": [
    {
     "data": {
      "image/png": "[encoded data removed]",
      "text/plain": [
       "<Figure size 1080x576 with 1 Axes>"
      ]
     },
     "metadata": {},
     "output_type": "display_data"
    }
   ],
   "source": [
    "wcss = []\n",
    "for i in range(1, 10):\n",
    "    kmeans = KMeans(n_clusters = i, init = 'k-means++', random_state = 42)\n",
    "    kmeans.fit(retailDataRFM)\n",
    "    wcss.append(kmeans.inertia_)\n",
    "\n",
    "f, ax = plt.subplots(figsize=(15, 8))  \n",
    "plt.style.use('_classic_test_patch')  \n",
    "plt.plot(range(1, 10), wcss, '-*')\n",
    "plt.title('The Elbow Method')\n",
    "plt.xlabel('Number of clusters')\n",
    "plt.ylabel('WCSS');"
   ]
  },
  {
   "cell_type": "markdown",
   "id": "e43d06e0",
   "metadata": {},
   "source": [
    "The Sharp Bend is between 2 to 4 points. Thus, we can select 2 to 4 clusters."
   ]
  },
  {
   "cell_type": "markdown",
   "id": "354498c3",
   "metadata": {},
   "source": [
    "***Project Task: Week 4***\n",
    "\n",
    "Data Reporting:​​​​​​​\n",
    "\n",
    "1. Create a dashboard in tableau by choosing appropriate chart types and metrics useful for the business. The dashboard must entail the following:\n",
    "\n",
    "a. Country-wise analysis to demonstrate average spend. Use a bar chart to show the monthly figures\n",
    "\n",
    "b. Bar graph of top 15 products which are mostly ordered by the users to show the number of products sold\n",
    "\n",
    "c. Bar graph to show the count of orders vs. hours throughout the day\n",
    "\n",
    "d. Plot the distribution of RFM values using histogram and frequency charts\n",
    "\n",
    "e. Plot error (cost) vs. number of clusters selected\n",
    "\n",
    "\n",
    "f. Visualize to compare the RFM values of the clusters using heatmap"
   ]
  },
  {
   "cell_type": "code",
   "execution_count": null,
   "id": "7a129e82",
   "metadata": {},
   "outputs": [],
   "source": []
  },
  {
   "cell_type": "code",
   "execution_count": null,
   "id": "603594e7",
   "metadata": {},
   "outputs": [],
   "source": []
  },
  {
   "cell_type": "code",
   "execution_count": null,
   "id": "a3ee03ca",
   "metadata": {},
   "outputs": [],
   "source": []
  }
 ],
 "metadata": {
  "kernelspec": {
   "display_name": "Python 3",
   "language": "python",
   "name": "python3"
  },
  "language_info": {
   "codemirror_mode": {
    "name": "ipython",
    "version": 3
   },
   "file_extension": ".py",
   "mimetype": "text/x-python",
   "name": "python",
   "nbconvert_exporter": "python",
   "pygments_lexer": "ipython3",
   "version": "3.8.8"
  }
 },
 "nbformat": 4,
 "nbformat_minor": 5
}
